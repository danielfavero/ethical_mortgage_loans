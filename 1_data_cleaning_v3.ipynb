{
 "cells": [
  {
   "cell_type": "code",
   "execution_count": 46,
   "id": "double-result",
   "metadata": {},
   "outputs": [
    {
     "name": "stdout",
     "output_type": "stream",
     "text": [
      "The autoreload extension is already loaded. To reload it, use:\n",
      "  %reload_ext autoreload\n"
     ]
    }
   ],
   "source": [
    "%load_ext autoreload\n",
    "%autoreload 2"
   ]
  },
  {
   "cell_type": "code",
   "execution_count": 48,
   "id": "temporal-gambling",
   "metadata": {},
   "outputs": [],
   "source": [
    "import pandas as pd\n",
    "import numpy as np\n",
    "import matplotlib.pyplot as plt\n",
    "\n",
    "\n",
    "import sys\n",
    "sys.path.append('../..')\n",
    "\n"
   ]
  },
  {
   "cell_type": "code",
   "execution_count": 50,
   "id": "546c0b69",
   "metadata": {},
   "outputs": [
    {
     "name": "stdout",
     "output_type": "stream",
     "text": [
      "<class 'pandas.core.frame.DataFrame'>\n",
      "RangeIndex: 26211431 entries, 0 to 26211430\n",
      "Data columns (total 99 columns):\n",
      " #   Column                                    Dtype \n",
      "---  ------                                    ----- \n",
      " 0   activity_year                             object\n",
      " 1   lei                                       object\n",
      " 2   derived_msa_md                            object\n",
      " 3   state_code                                object\n",
      " 4   county_code                               object\n",
      " 5   census_tract                              object\n",
      " 6   conforming_loan_limit                     object\n",
      " 7   derived_loan_product_type                 object\n",
      " 8   derived_dwelling_category                 object\n",
      " 9   derived_ethnicity                         object\n",
      " 10  derived_race                              object\n",
      " 11  derived_sex                               object\n",
      " 12  action_taken                              object\n",
      " 13  purchaser_type                            object\n",
      " 14  preapproval                               object\n",
      " 15  loan_type                                 object\n",
      " 16  loan_purpose                              object\n",
      " 17  lien_status                               object\n",
      " 18  reverse_mortgage                          object\n",
      " 19  open_end_line_of_credit                   object\n",
      " 20  business_or_commercial_purpose            object\n",
      " 21  loan_amount                               object\n",
      " 22  combined_loan_to_value_ratio              object\n",
      " 23  interest_rate                             object\n",
      " 24  rate_spread                               object\n",
      " 25  hoepa_status                              object\n",
      " 26  total_loan_costs                          object\n",
      " 27  total_points_and_fees                     object\n",
      " 28  origination_charges                       object\n",
      " 29  discount_points                           object\n",
      " 30  lender_credits                            object\n",
      " 31  loan_term                                 object\n",
      " 32  prepayment_penalty_term                   object\n",
      " 33  intro_rate_period                         object\n",
      " 34  negative_amortization                     object\n",
      " 35  interest_only_payment                     object\n",
      " 36  balloon_payment                           object\n",
      " 37  other_nonamortizing_features              object\n",
      " 38  property_value                            object\n",
      " 39  construction_method                       object\n",
      " 40  occupancy_type                            object\n",
      " 41  manufactured_home_secured_property_type   object\n",
      " 42  manufactured_home_land_property_interest  object\n",
      " 43  total_units                               object\n",
      " 44  multifamily_affordable_units              object\n",
      " 45  income                                    object\n",
      " 46  debt_to_income_ratio                      object\n",
      " 47  applicant_credit_score_type               object\n",
      " 48  co_applicant_credit_score_type            object\n",
      " 49  applicant_ethnicity_1                     object\n",
      " 50  applicant_ethnicity_2                     object\n",
      " 51  applicant_ethnicity_3                     object\n",
      " 52  applicant_ethnicity_4                     object\n",
      " 53  applicant_ethnicity_5                     object\n",
      " 54  co_applicant_ethnicity_1                  object\n",
      " 55  co_applicant_ethnicity_2                  object\n",
      " 56  co_applicant_ethnicity_3                  object\n",
      " 57  co_applicant_ethnicity_4                  object\n",
      " 58  co_applicant_ethnicity_5                  object\n",
      " 59  applicant_ethnicity_observed              object\n",
      " 60  co_applicant_ethnicity_observed           object\n",
      " 61  applicant_race_1                          object\n",
      " 62  applicant_race_2                          object\n",
      " 63  applicant_race_3                          object\n",
      " 64  applicant_race_4                          object\n",
      " 65  applicant_race_5                          object\n",
      " 66  co_applicant_race_1                       object\n",
      " 67  co_applicant_race_2                       object\n",
      " 68  co_applicant_race_3                       object\n",
      " 69  co_applicant_race_4                       object\n",
      " 70  co_applicant_race_5                       object\n",
      " 71  applicant_race_observed                   object\n",
      " 72  co_applicant_race_observed                object\n",
      " 73  applicant_sex                             object\n",
      " 74  co_applicant_sex                          object\n",
      " 75  applicant_sex_observed                    object\n",
      " 76  co_applicant_sex_observed                 object\n",
      " 77  applicant_age                             object\n",
      " 78  co_applicant_age                          object\n",
      " 79  applicant_age_above_62                    object\n",
      " 80  co_applicant_age_above_62                 object\n",
      " 81  submission_of_application                 object\n",
      " 82  initially_payable_to_institution          object\n",
      " 83  aus_1                                     object\n",
      " 84  aus_2                                     object\n",
      " 85  aus_3                                     object\n",
      " 86  aus_4                                     object\n",
      " 87  aus_5                                     object\n",
      " 88  denial_reason_1                           object\n",
      " 89  denial_reason_2                           object\n",
      " 90  denial_reason_3                           object\n",
      " 91  denial_reason_4                           object\n",
      " 92  tract_population                          object\n",
      " 93  tract_minority_population_percent         object\n",
      " 94  ffiec_msa_md_median_family_income         object\n",
      " 95  tract_to_msa_income_percentage            object\n",
      " 96  tract_owner_occupied_units                object\n",
      " 97  tract_one_to_four_family_homes            object\n",
      " 98  tract_median_age_of_housing_units         object\n",
      "dtypes: object(99)\n",
      "memory usage: 19.3+ GB\n"
     ]
    }
   ],
   "source": [
    "\n",
    "import_df = pd.read_csv('../../data/hmda_lar/raw_data/2021_lar.txt'\n",
    "                        , sep='|' \n",
    "                        , dtype = str\n",
    "                        #, nrows=1000000\n",
    "                        , index_col=False\n",
    "                        #, skiprows=lambda x: x % 2\n",
    "                        ) #nrows=12297121  , skiprows=lambda x: x % 2, dtype=type , converters=coverter , ,  na_values=na_value , low_memory=False, usecols = columns\n",
    "\n",
    "import_df.info()"
   ]
  },
  {
   "cell_type": "code",
   "execution_count": 51,
   "id": "989b3925",
   "metadata": {},
   "outputs": [],
   "source": [
    "#import_df = import_df.sample(frac=0.50)"
   ]
  },
  {
   "cell_type": "markdown",
   "id": "4613b2ec",
   "metadata": {},
   "source": [
    "### Data analysis using Pandas Profiling\n",
    "https://github.com/ydataai/pandas-profiling\n",
    "\n",
    "\n"
   ]
  },
  {
   "cell_type": "code",
   "execution_count": 52,
   "id": "7aa723a7",
   "metadata": {},
   "outputs": [],
   "source": [
    "\n",
    "#profile = ProfileReport(import_df, minimal=True)\n",
    "#profile.to_file(output_file=\"output.html\")\n",
    "\n",
    "# Note that minimal=True is used to limit the output due to the size of the dataset since a full report was crashing due to limited 32GB RAM memory.\n",
    "\n"
   ]
  },
  {
   "cell_type": "code",
   "execution_count": 53,
   "id": "972c1bfb",
   "metadata": {},
   "outputs": [],
   "source": [
    "#profile.to_notebook_iframe()"
   ]
  },
  {
   "cell_type": "code",
   "execution_count": 54,
   "id": "dae86de3",
   "metadata": {},
   "outputs": [],
   "source": [
    "amv=import_df.groupby(by='action_taken', as_index=False).count().T #.melt(id_vars='loan_outcome')"
   ]
  },
  {
   "cell_type": "code",
   "execution_count": 55,
   "id": "7315e5e9",
   "metadata": {},
   "outputs": [
    {
     "data": {
      "text/plain": [
       "Text(0, 0.5, 'Count')"
      ]
     },
     "execution_count": 55,
     "metadata": {},
     "output_type": "execute_result"
    },
    {
     "data": {
      "image/png": "[encoded data removed]",
      "text/plain": [
       "<Figure size 2000x1000 with 1 Axes>"
      ]
     },
     "metadata": {},
     "output_type": "display_data"
    }
   ],
   "source": [
    "\n",
    "\n",
    "plt.rc('axes', labelsize=6)    # fontsize of the x and y label\n",
    "amv.drop('action_taken').plot(kind='bar', \n",
    "                              stacked=True, \n",
    "                              figsize=(20,10),\n",
    "                              colormap='tab20b'\n",
    "                              )\n",
    "plt.title('Count of outcome per Feature')\n",
    "plt.xlabel('Features')\n",
    "plt.ylabel('Count')\n"
   ]
  },
  {
   "cell_type": "markdown",
   "id": "8e850c76",
   "metadata": {},
   "source": [
    "The following columns were added by the CFPB, and we're not using them. \n",
    "- derived_loan_product_type\n",
    "- derived_dwelling_category\n",
    "- derived_ethnicity\n",
    "- derived_race\n",
    "- derived_sex\n",
    "\n",
    "removing observed race, ethinicity and sex as we intend to use reported data\n",
    "- applicant_ethnicity_observed\n",
    "- co_applicant_ethnicity_observed\n",
    "- applicant_race_observed\n",
    "- co_applicant_race_observed\n",
    "- applicant_sex_observed\n",
    "- co_applicant_sex_observed\n",
    "\n",
    "Drop activity_year has constant value \"2019\"\n",
    "applicant_ethnicity_5 has constant value \"13\"\n",
    "co_applicant_ethnicity_5 has constant value \"14\"\t\n",
    "\n",
    "Keep census_tract but dropping \n",
    "- derived_msa_md has a high cardinality: 406 distinct values\n",
    "- state_code has a high cardinality: 51 distinct values\n",
    "- county_code has a high cardinality: 2979 distinct values\n",
    "\n",
    "Keep these features with high cardinality \n",
    "- loan_amount has a high cardinality: 932 distinct values\n",
    "- combined_loan_to_value_ratio has a high cardinality: 71418 distinct values\n",
    "- interest_rate has a high cardinality: 1392 distinct values\n",
    "- rate_spread has a high cardinality: 33838 distinct values\n",
    "- total_loan_costs has a high cardinality: 274032 distinct values\n",
    "- total_points_and_fees has a high cardinality: 3716 distinct values\n",
    "- origination_charges has a high cardinality: 118470 distinct values\n",
    "- discount_points has a high cardinality: 97316 distinct values\n",
    "- lender_credits has a high cardinality: 85203 distinct values\n",
    "- loan_term has a high cardinality: 277 distinct values\n",
    "- intro_rate_period has a high cardinality: 60 distinct values\n",
    "- property_value has a high cardinality: 1037 distinct values\n",
    "- income has a high cardinality: 2698 distinct values\n",
    "- tract_population has a high cardinality: 9318 distinct values\n",
    "- tract_minority_population_percent has a high cardinality: 13569 distinct values\n",
    "- ffiec_msa_md_median_family_income has a high cardinality: 294 distinct values\n",
    "- tract_to_msa_income_percentage has a high cardinality: 362 distinct values\n",
    "- tract_owner_occupied_units has a high cardinality: 3351 distinct values\n",
    "- tract_one_to_four_family_homes has a high cardinality: 4321 distinct values\n",
    "- tract_median_age_of_housing_units has a high cardinality: 74 distinct values\n",
    "\n",
    "Dropping columns that are 95% of time concentrated into a single category\n",
    "\n",
    "Dropping columns that have less then 5% of loans that were denied.\n",
    "\n",
    "Dropping columns with more than 70% missing values\n",
    "- total_points_and_fees has 980064 (98.0%) missing values\n",
    "- discount_points has 789803 (79.0%) missing values\n",
    "- lender_credits has 758988 (75.9%) missing values\n",
    "- prepayment_penalty_term has 985135 (98.5%) missing values\n",
    "- intro_rate_period has 840955 (84.1%) missing values\n",
    "- multifamily_affordable_units has 984884 (98.5%) missing values\n",
    "- applicant_ethnicity_2 has 952132 (95.2%) missing values\n",
    "- applicant_ethnicity_3 has 999335 (99.9%) missing values\n",
    "- applicant_ethnicity_4 has 999983 (> 99.9%) missing values\n",
    "- applicant_ethnicity_5 has 999999 (> 99.9%) missing values\n",
    "- co_applicant_ethnicity_2 has 980461 (98.0%) missing values\n",
    "- co_applicant_ethnicity_3 has 999742 (> 99.9%) missing values\n",
    "- co_applicant_ethnicity_4 has 999992 (> 99.9%) missing values\n",
    "- co_applicant_ethnicity_5 has 999999 (> 99.9%) missing values\n",
    "- applicant_race_2 has 964643 (96.5%) missing values\n",
    "- applicant_race_3 has 997165 (99.7%) missing values\n",
    "- applicant_race_4 has 999669 (> 99.9%) missing values\n",
    "- applicant_race_5 has 999892 (> 99.9%) missing values\n",
    "- co_applicant_race_2 has 985289 (98.5%) missing values\n",
    "- co_applicant_race_3 has 998853 (99.9%) missing values\n",
    "- co_applicant_race_4 has 999876 (> 99.9%) missing values\n",
    "- co_applicant_race_5 has 999959 (> 99.9%) missing values\n",
    "- aus_2 has 939652 (94.0%) missing values\n",
    "- aus_3 has 974495 (97.4%) missing values\n",
    "- aus_4 has 986279 (98.6%) missing values\n",
    "- aus_5 has 986996 (98.7%) missing values\n",
    "- denial_reason_2 has 978017 (97.8%) missing values\n",
    "- denial_reason_3 has 996696 (99.7%) missing values\n",
    "- denial_reason_4 has 999741 (> 99.9%) missing values"
   ]
  },
  {
   "cell_type": "markdown",
   "id": "0abfefe1",
   "metadata": {},
   "source": [
    "The HMDA Descriptor aids in understanding the multiple columns in the HMDA dataset and shows which columns are being dropped"
   ]
  },
  {
   "cell_type": "code",
   "execution_count": 56,
   "id": "2ff5e3bc",
   "metadata": {},
   "outputs": [],
   "source": [
    "hmda_Desc_df = pd.read_csv('../../data/hmda_lar/HMDA_Data_Descriptor_v2.csv' , dtype = str)\n",
    "#columns, type, coverter, na_value = import_descriptor(hmda_Desc_df)"
   ]
  },
  {
   "cell_type": "markdown",
   "id": "57320b76",
   "metadata": {},
   "source": [
    "Columns being dropped from import"
   ]
  },
  {
   "cell_type": "code",
   "execution_count": 57,
   "id": "4259d9a6",
   "metadata": {},
   "outputs": [],
   "source": [
    "columns_to_drop = hmda_Desc_df['Field'][hmda_Desc_df['dtype']=='drop'].to_list()"
   ]
  },
  {
   "cell_type": "code",
   "execution_count": 58,
   "id": "c0107d98",
   "metadata": {},
   "outputs": [],
   "source": [
    "#kept columns\n",
    "existing_col = hmda_Desc_df['Field'][hmda_Desc_df['dtype']!='drop']"
   ]
  },
  {
   "cell_type": "code",
   "execution_count": 59,
   "id": "da87386f",
   "metadata": {},
   "outputs": [],
   "source": [
    "#Dropping features that are more than 95% concentrated around a single value or that are have than 70% missing data\n",
    "for col in existing_col:\n",
    "    den = import_df[col].value_counts(dropna=True).sum()\n",
    "    num = import_df[col].value_counts(dropna=True).max()\n",
    "    concentration_rate = num/den\n",
    "    percent_missing = import_df[col].isnull().sum() / len(import_df)\n",
    "    if  concentration_rate > 0.96 or percent_missing > 0.70:\n",
    "        columns_to_drop.append(col)\n"
   ]
  },
  {
   "cell_type": "code",
   "execution_count": 60,
   "id": "eb7925d5",
   "metadata": {},
   "outputs": [],
   "source": [
    "for col in existing_col[existing_col!='action_taken']:\n",
    "    num=amv.T[amv.T['action_taken']=='3'][col].sum()\n",
    "    den=amv.T[col].sum()\n",
    "    denied_rate = num/den\n",
    "    if denied_rate< 0.05 and col not in columns_to_drop: # dropping column if there is less 5% of denied loans in that column\n",
    "        columns_to_drop.append(col)"
   ]
  },
  {
   "cell_type": "code",
   "execution_count": 61,
   "id": "64ba4e30",
   "metadata": {},
   "outputs": [
    {
     "data": {
      "text/plain": [
       "['activity_year',\n",
       " 'derived_msa_md',\n",
       " 'state_code',\n",
       " 'county_code',\n",
       " 'derived_loan_product_type',\n",
       " 'derived_dwelling_category',\n",
       " 'derived_ethnicity',\n",
       " 'derived_race',\n",
       " 'derived_sex',\n",
       " 'other_nonamortizing_features',\n",
       " 'applicant_ethnicity_2',\n",
       " 'applicant_ethnicity_3',\n",
       " 'applicant_ethnicity_4',\n",
       " 'applicant_ethnicity_5',\n",
       " 'co_applicant_ethnicity_2',\n",
       " 'co_applicant_ethnicity_3',\n",
       " 'co_applicant_ethnicity_4',\n",
       " 'co_applicant_ethnicity_5',\n",
       " 'applicant_ethnicity_observed',\n",
       " 'co_applicant_ethnicity_observed',\n",
       " 'applicant_race_2',\n",
       " 'applicant_race_3',\n",
       " 'applicant_race_4',\n",
       " 'applicant_race_5',\n",
       " 'co_applicant_race_2',\n",
       " 'co_applicant_race_3',\n",
       " 'co_applicant_race_4',\n",
       " 'co_applicant_race_5',\n",
       " 'applicant_race_observed',\n",
       " 'co_applicant_race_observed',\n",
       " 'applicant_sex_observed',\n",
       " 'co_applicant_sex_observed',\n",
       " 'applicant_age_above_62',\n",
       " 'co_applicant_age_above_62',\n",
       " 'preapproval',\n",
       " 'reverse_mortgage',\n",
       " 'total_points_and_fees',\n",
       " 'discount_points',\n",
       " 'lender_credits',\n",
       " 'prepayment_penalty_term',\n",
       " 'intro_rate_period',\n",
       " 'negative_amortization',\n",
       " 'balloon_payment',\n",
       " 'construction_method',\n",
       " 'total_units',\n",
       " 'multifamily_affordable_units',\n",
       " 'aus_2',\n",
       " 'aus_3',\n",
       " 'aus_4',\n",
       " 'aus_5',\n",
       " 'denial_reason_2',\n",
       " 'denial_reason_3',\n",
       " 'denial_reason_4',\n",
       " 'interest_rate',\n",
       " 'rate_spread',\n",
       " 'total_loan_costs',\n",
       " 'origination_charges']"
      ]
     },
     "execution_count": 61,
     "metadata": {},
     "output_type": "execute_result"
    }
   ],
   "source": [
    "columns_to_drop"
   ]
  },
  {
   "cell_type": "markdown",
   "id": "292aadda",
   "metadata": {},
   "source": [
    "Creating new DF and deleting import_df to save memory"
   ]
  },
  {
   "cell_type": "code",
   "execution_count": 62,
   "id": "d8f3c369",
   "metadata": {},
   "outputs": [],
   "source": [
    "hmda_df = import_df.drop(columns_to_drop, axis=1)\n",
    "lst = [import_df]\n",
    "del import_df\n",
    "del lst\n"
   ]
  },
  {
   "cell_type": "code",
   "execution_count": 63,
   "id": "6f6c8c25",
   "metadata": {},
   "outputs": [
    {
     "name": "stdout",
     "output_type": "stream",
     "text": [
      "<class 'pandas.core.frame.DataFrame'>\n",
      "RangeIndex: 26211431 entries, 0 to 26211430\n",
      "Data columns (total 42 columns):\n",
      " #   Column                                    Dtype \n",
      "---  ------                                    ----- \n",
      " 0   lei                                       object\n",
      " 1   census_tract                              object\n",
      " 2   conforming_loan_limit                     object\n",
      " 3   action_taken                              object\n",
      " 4   purchaser_type                            object\n",
      " 5   loan_type                                 object\n",
      " 6   loan_purpose                              object\n",
      " 7   lien_status                               object\n",
      " 8   open_end_line_of_credit                   object\n",
      " 9   business_or_commercial_purpose            object\n",
      " 10  loan_amount                               object\n",
      " 11  combined_loan_to_value_ratio              object\n",
      " 12  hoepa_status                              object\n",
      " 13  loan_term                                 object\n",
      " 14  interest_only_payment                     object\n",
      " 15  property_value                            object\n",
      " 16  occupancy_type                            object\n",
      " 17  manufactured_home_secured_property_type   object\n",
      " 18  manufactured_home_land_property_interest  object\n",
      " 19  income                                    object\n",
      " 20  debt_to_income_ratio                      object\n",
      " 21  applicant_credit_score_type               object\n",
      " 22  co_applicant_credit_score_type            object\n",
      " 23  applicant_ethnicity_1                     object\n",
      " 24  co_applicant_ethnicity_1                  object\n",
      " 25  applicant_race_1                          object\n",
      " 26  co_applicant_race_1                       object\n",
      " 27  applicant_sex                             object\n",
      " 28  co_applicant_sex                          object\n",
      " 29  applicant_age                             object\n",
      " 30  co_applicant_age                          object\n",
      " 31  submission_of_application                 object\n",
      " 32  initially_payable_to_institution          object\n",
      " 33  aus_1                                     object\n",
      " 34  denial_reason_1                           object\n",
      " 35  tract_population                          object\n",
      " 36  tract_minority_population_percent         object\n",
      " 37  ffiec_msa_md_median_family_income         object\n",
      " 38  tract_to_msa_income_percentage            object\n",
      " 39  tract_owner_occupied_units                object\n",
      " 40  tract_one_to_four_family_homes            object\n",
      " 41  tract_median_age_of_housing_units         object\n",
      "dtypes: object(42)\n",
      "memory usage: 8.2+ GB\n"
     ]
    }
   ],
   "source": [
    "hmda_df.info()"
   ]
  },
  {
   "cell_type": "markdown",
   "id": "f2be4fe8",
   "metadata": {},
   "source": [
    "### 2. Dataframe cleaning"
   ]
  },
  {
   "cell_type": "markdown",
   "id": "d1afee16",
   "metadata": {},
   "source": [
    "### Understanding the types of values each variable can take\n",
    "Pandas Profiling shows columns with high cardinality. let's look further at them"
   ]
  },
  {
   "cell_type": "code",
   "execution_count": 64,
   "id": "b88734ef",
   "metadata": {},
   "outputs": [
    {
     "data": {
      "text/plain": [
       "\" df_types = pd.DataFrame(columns=['Col_name', 'value_range', 'count'])\\nexclude_cols = [ 'lei', 'state_code', 'county_code'] #, 'census_tract'\\ncolumns = [var for var in hmda_df.columns if var not in exclude_cols]\\nfor col in columns:\\n    dd = hmda_df.groupby([col], as_index=False, dropna=False)['lei'].count().sort_values(by='lei', ascending=False)\\n    dd['Col_name'] = col\\n    if len(dd['lei'])<70000: # indicates how may values to limit the concatenation to\\n        dd.rename(columns={col: 'value_range', 'lei': 'count'}, inplace=True)\\n        df_types = pd.concat([df_types, dd])\\ndf_types \""
      ]
     },
     "execution_count": 64,
     "metadata": {},
     "output_type": "execute_result"
    }
   ],
   "source": [
    "\"\"\" df_types = pd.DataFrame(columns=['Col_name', 'value_range', 'count'])\n",
    "exclude_cols = [ 'lei', 'state_code', 'county_code'] #, 'census_tract'\n",
    "columns = [var for var in hmda_df.columns if var not in exclude_cols]\n",
    "for col in columns:\n",
    "    dd = hmda_df.groupby([col], as_index=False, dropna=False)['lei'].count().sort_values(by='lei', ascending=False)\n",
    "    dd['Col_name'] = col\n",
    "    if len(dd['lei'])<70000: # indicates how may values to limit the concatenation to\n",
    "        dd.rename(columns={col: 'value_range', 'lei': 'count'}, inplace=True)\n",
    "        df_types = pd.concat([df_types, dd])\n",
    "df_types \"\"\""
   ]
  },
  {
   "cell_type": "markdown",
   "id": "bfe97642",
   "metadata": {},
   "source": [
    "Exporting list to .csv for inspection"
   ]
  },
  {
   "cell_type": "code",
   "execution_count": 65,
   "id": "26063421",
   "metadata": {},
   "outputs": [],
   "source": [
    "#df_types.to_csv('../../data/hmda_lar/df_types.csv', index = False)"
   ]
  },
  {
   "cell_type": "markdown",
   "id": "social-joint",
   "metadata": {},
   "source": [
    "### 2.0. Filtering and Cleaning Outcomes\n",
    "- 1: Loan originated\n",
    "- 2: Application approved but not accepted (data not used)\n",
    "- 3: Application denied\n",
    "- 4: Application withdrawn by applicant (data not used)\n",
    "- 5: File closed for incompleteness (data not used)\n",
    "- 6: Purchased loan (data not used)\n",
    "- 7: Preapproval request denied (data not used)\n",
    "- 8: Preapproval request approved but not accepted (data not used)"
   ]
  },
  {
   "cell_type": "markdown",
   "id": "verbal-mexico",
   "metadata": {},
   "source": [
    "#### New Outcomes:\n",
    "- 0: Loans\n",
    "- 1: Denials\n"
   ]
  },
  {
   "cell_type": "code",
   "execution_count": 66,
   "id": "measured-plymouth",
   "metadata": {},
   "outputs": [
    {
     "data": {
      "text/plain": [
       "1      15063175\n",
       "nan     8226915\n",
       "0       2921341\n",
       "Name: loan_outcome, dtype: int64"
      ]
     },
     "execution_count": 66,
     "metadata": {},
     "output_type": "execute_result"
    }
   ],
   "source": [
    "### Clean Outcomes\n",
    "\n",
    "conditions=[\n",
    "    hmda_df['action_taken']=='1',    # Loan originated\n",
    "    hmda_df['action_taken']=='3',    # Application denied\n",
    "]\n",
    "\n",
    "results = ['1',\n",
    "            '0',\n",
    "        ]\n",
    "\n",
    "hmda_df['loan_outcome'] = np.select(conditions, results, np.nan) \n",
    "hmda_df['loan_outcome'].value_counts(dropna = False)\n"
   ]
  },
  {
   "cell_type": "code",
   "execution_count": 67,
   "id": "c7d174d5",
   "metadata": {},
   "outputs": [],
   "source": [
    "hmda_df.drop(columns=['action_taken'], axis=1, inplace=True)"
   ]
  },
  {
   "cell_type": "code",
   "execution_count": 68,
   "id": "1783cb15",
   "metadata": {},
   "outputs": [
    {
     "data": {
      "text/plain": [
       "1    15063175\n",
       "0     2921341\n",
       "Name: loan_outcome, dtype: int64"
      ]
     },
     "execution_count": 68,
     "metadata": {},
     "output_type": "execute_result"
    }
   ],
   "source": [
    "hmda_df = hmda_df[(hmda_df['loan_outcome']=='0') | (hmda_df['loan_outcome']=='1')]\n",
    "hmda_df['loan_outcome'].value_counts()"
   ]
  },
  {
   "cell_type": "markdown",
   "id": "b41bacff",
   "metadata": {},
   "source": [
    "### 2.1. Filtering Only Conventional Loans that were used for Home purchases\n",
    "- 1: Conventional (not insured or guaranteed by FHA, VA, RHS, or FSA)\n",
    "- 2: Federal Housing Administration insured (FHA)\n",
    "- 3: Veterans Affairs guaranteed (VA)\n",
    "- 4: USDA Rural Housing Service or Farm Service Agency guaranteed (RHS or FSA)\n",
    "\n",
    "...and for the purpose of Home Purchase (not Home improvement nor refinancing)\n",
    "loan_purpose\n",
    "- 1: Home purchase\n",
    "- 2: Home improvement\n",
    "- 31: Refinancing\n",
    "- 32: Cash-out refinancing\n",
    "- 4: Other purpose\n",
    "- 5: Not applicable"
   ]
  },
  {
   "cell_type": "code",
   "execution_count": 69,
   "id": "b08eb473",
   "metadata": {},
   "outputs": [
    {
     "data": {
      "text/plain": [
       "1    14704180\n",
       "2     1700352\n",
       "3     1448937\n",
       "4      131047\n",
       "Name: loan_type, dtype: int64"
      ]
     },
     "execution_count": 69,
     "metadata": {},
     "output_type": "execute_result"
    }
   ],
   "source": [
    "hmda_df['loan_type'].value_counts(dropna=False)\n"
   ]
  },
  {
   "cell_type": "code",
   "execution_count": 70,
   "id": "998cf14c",
   "metadata": {},
   "outputs": [],
   "source": [
    "hmda_df = hmda_df[(hmda_df['loan_type']=='1')]"
   ]
  },
  {
   "cell_type": "code",
   "execution_count": 71,
   "id": "4fbe3e74",
   "metadata": {},
   "outputs": [],
   "source": [
    "\n",
    "hmda_df = hmda_df[(hmda_df['loan_purpose']=='1')]"
   ]
  },
  {
   "cell_type": "code",
   "execution_count": 90,
   "id": "924422c4",
   "metadata": {},
   "outputs": [],
   "source": [
    "#removing both columns from the database\n",
    "hmda_df.drop(columns=['loan_type', 'loan_purpose'],axis=1, inplace=True)"
   ]
  },
  {
   "cell_type": "markdown",
   "id": "educated-council",
   "metadata": {},
   "source": [
    "### 2.2. Transforming Race and Ethnicity into single column\n",
    "\n",
    "To be able to understand the variety of people's origins, we need to look at both Race and Ethnicity simultaneously.\n",
    " Races can be: American Indian or Alaska Native, Asian, Asian Indian, Chinese, Filipino, Japanese, Korean, Vietnamese, Other Asian, Black or African American, Native Hawaiian or Other Pacific Islander, Native Hawaiian,\n",
    " Guamanian or Chamorro, Samoan, Other Pacific Islander or White.\n",
    " Ethnicity can be: Hispanic or Latino, Mexican, Puerto Rican, Cuban, Other Hispanic or Latino or Not Hispanic or Latino\n",
    "\n",
    "For the purpose of simplifying the data we'll be categorizing the data into\n",
    "\n",
    "- 1: Native American\n",
    "- 2: Asian\n",
    "- 3: Black\n",
    "- 4: Pacific Islander\n",
    "- 5: White\n",
    "- 6: Latino\n",
    "- 7: Race NA"
   ]
  },
  {
   "cell_type": "code",
   "execution_count": null,
   "id": "941996f6",
   "metadata": {},
   "outputs": [],
   "source": [
    "def clean_race_ethnicity(row):\n",
    "    \n",
    "   \n",
    "    try:\n",
    "        race = row['applicant_race_1']\n",
    "        ethnicity = row['applicant_ethnicity_1']\n",
    "    \n",
    "    ### this is intended for co-applicants\n",
    "    except KeyError:\n",
    "        race = row['co_applicant_race_1']\n",
    "        ethnicity = row['co_applicant_ethnicity_1']\n",
    "    \n",
    "   \n",
    "    latinx = ['1', '11', '12', '13', '14']\n",
    "    asian = ['2', '21', '22', '23', '24', '25', '26', '27']\n",
    "    pac_islander = ['4', '41', '42', '43', '44']\n",
    "    black = ['3']\n",
    "    white = ['5']\n",
    "    native = ['1']\n",
    "    ethnicity_na = ['2', '3', '4', '000']\n",
    "    race_na = ['6', '7', '-1', '000']\n",
    "    \n",
    "    ### Used for co-applicants\n",
    "    ethnicity_nocoapp = ['5']\n",
    "    race_nocoapp = ['8']\n",
    "    \n",
    "    \n",
    "    ### Latino\n",
    "    if ethnicity in latinx:\n",
    "        return '6'\n",
    "    ### Black\n",
    "    elif ethnicity not in latinx and race in black:\n",
    "        return '3'\n",
    "    ### Asian\n",
    "    elif ethnicity not in latinx and race in asian:\n",
    "        return '2'\n",
    "    ### Pacific Islander\n",
    "    elif ethnicity not in latinx and race in pac_islander:\n",
    "        return '4'\n",
    "    ### Native\n",
    "    elif ethnicity not in latinx and race in native:\n",
    "        return '1'\n",
    "    ### White\n",
    "    elif ethnicity not in latinx and race in white:\n",
    "        return '5'\n",
    "    # Race NA\n",
    "    elif ethnicity in ethnicity_na and race in race_na:\n",
    "        return '7'\n",
    "        \n",
    "    ### No Co-Applicants: Where both are no co-applicants OR where just one is no co-applicant\n",
    "    elif (ethnicity in ethnicity_nocoapp and race in race_nocoapp) or (race in race_nocoapp and ethnicity in ethnicity_na) or (ethnicity in ethnicity_nocoapp and race in race_na): \n",
    "        return '8'"
   ]
  },
  {
   "cell_type": "code",
   "execution_count": 72,
   "id": "12734424",
   "metadata": {},
   "outputs": [
    {
     "name": "stdout",
     "output_type": "stream",
     "text": [
      "5       2727138\n",
      "7        682231\n",
      "6        502186\n",
      "2        418057\n",
      "3        270839\n",
      "1         25136\n",
      "4          6911\n",
      "None        503\n",
      "Name: app_race_ethnicity, dtype: int64\n"
     ]
    }
   ],
   "source": [
    "app_race_eth_combinations = hmda_df[['applicant_race_1', 'applicant_ethnicity_1']].drop_duplicates()\n",
    "### Apply clean_race_ethnicity function for the r/e dataframe\n",
    "app_race_eth_combinations['app_race_ethnicity'] = app_race_eth_combinations.apply(clean_race_ethnicity, axis = 1)\n",
    "### Drop Count Column\n",
    "hmda_df = pd.merge(hmda_df, app_race_eth_combinations, how = 'left', on = ['applicant_race_1', 'applicant_ethnicity_1'])\n",
    "print(hmda_df['app_race_ethnicity'].value_counts(dropna = False))\n",
    "hmda_df.drop(columns=['applicant_race_1', 'applicant_ethnicity_1'],axis=1, inplace=True)"
   ]
  },
  {
   "cell_type": "markdown",
   "id": "bbd50c18",
   "metadata": {},
   "source": [
    "Considering only data samples with reported race/ethnicity"
   ]
  },
  {
   "cell_type": "code",
   "execution_count": 73,
   "id": "a47a1345",
   "metadata": {},
   "outputs": [],
   "source": [
    "hmda_df = hmda_df[(hmda_df['app_race_ethnicity']!='7')]"
   ]
  },
  {
   "cell_type": "markdown",
   "id": "reserved-scoop",
   "metadata": {},
   "source": [
    "### 2.3. Clean Co-applicant Race and Ethnicity\n",
    "- 1: Native American\n",
    "- 2: Asian\n",
    "- 3: Black\n",
    "- 4: Pacific Islander\n",
    "- 5: White\n",
    "- 6: Latino\n",
    "- 7: Race NA\n",
    "- 8: No Coapp"
   ]
  },
  {
   "cell_type": "code",
   "execution_count": 74,
   "id": "fa899611",
   "metadata": {},
   "outputs": [
    {
     "data": {
      "text/plain": [
       "8       2182151\n",
       "5       1272439\n",
       "6        194739\n",
       "2        165286\n",
       "3         71895\n",
       "7         52013\n",
       "1          9008\n",
       "4          3065\n",
       "None        174\n",
       "Name: coapp_race_ethnicity, dtype: int64"
      ]
     },
     "execution_count": 74,
     "metadata": {},
     "output_type": "execute_result"
    }
   ],
   "source": [
    "coapp_race_eth_combinations = hmda_df[['co_applicant_race_1', 'co_applicant_ethnicity_1']].drop_duplicates()\n",
    "### Apply clean_race_ethnicity function for the r/e dataframe\n",
    "coapp_race_eth_combinations['coapp_race_ethnicity'] = coapp_race_eth_combinations.apply(clean_race_ethnicity, axis = 1)\n",
    "### Using clean_race_ethnicity function for the coapp r/e dataframe, it has a no co-app flag\n",
    "coapp_race_eth_combinations['coapp_race_ethnicity'] = coapp_race_eth_combinations.apply(clean_race_ethnicity, axis = 1)\n",
    "\n",
    "hmda_df = pd.merge(hmda_df, coapp_race_eth_combinations, how = 'left', \n",
    "                      on = ['co_applicant_race_1', 'co_applicant_ethnicity_1'])\n",
    "\n",
    "\n",
    "#Removing original columns\n",
    "hmda_df.drop(['co_applicant_race_1', 'co_applicant_ethnicity_1'],axis=1, inplace=True)\n",
    "\n",
    "hmda_df['coapp_race_ethnicity'].value_counts(dropna = False)"
   ]
  },
  {
   "cell_type": "markdown",
   "id": "4759bfd8",
   "metadata": {},
   "source": [
    "again we're removing the samples where the coapplicant race/ethnicity is not reported"
   ]
  },
  {
   "cell_type": "code",
   "execution_count": 75,
   "id": "a0215aa2",
   "metadata": {},
   "outputs": [],
   "source": [
    "hmda_df = hmda_df[(hmda_df['coapp_race_ethnicity']!='7')]"
   ]
  },
  {
   "cell_type": "markdown",
   "id": "ac7b14fb",
   "metadata": {},
   "source": [
    "### 2.3. Clean Sex by removing non-reported Sex"
   ]
  },
  {
   "cell_type": "markdown",
   "id": "83259a0a",
   "metadata": {},
   "source": [
    "Considering only data samples with reported Sex for both Applicants and Co-applicants"
   ]
  },
  {
   "cell_type": "code",
   "execution_count": 76,
   "id": "81592320",
   "metadata": {},
   "outputs": [],
   "source": [
    "hmda_df = hmda_df[(hmda_df['applicant_sex'] == '1') |\n",
    "                  (hmda_df['applicant_sex'] == '2')]\n",
    "# hmda_df['loan_outcome'].value_counts()\n"
   ]
  },
  {
   "cell_type": "code",
   "execution_count": 77,
   "id": "6746e727",
   "metadata": {},
   "outputs": [],
   "source": [
    "hmda_df = hmda_df[(hmda_df['co_applicant_sex'] == '1') |\n",
    "                  (hmda_df['co_applicant_sex'] == '2') |\n",
    "                  (hmda_df['co_applicant_sex'] == '5')\n",
    "                  ]\n"
   ]
  },
  {
   "cell_type": "markdown",
   "id": "arranged-input",
   "metadata": {},
   "source": [
    "### 2.4. Cleaning Credit Models\n",
    "- 1: Equifax\n",
    "- 2: Experian\n",
    "- 3: TransUnion\n",
    "- 4: Vantage\n",
    "- 5: More than one\n",
    "- 6: Other Model\n",
    "- 7: Credit Na"
   ]
  },
  {
   "cell_type": "code",
   "execution_count": 78,
   "id": "welsh-usage",
   "metadata": {},
   "outputs": [
    {
     "data": {
      "text/plain": [
       "1      1261485\n",
       "3      1060537\n",
       "2       868568\n",
       "NaN     407218\n",
       "5       135383\n",
       "6       127865\n",
       "4         6922\n",
       "Name: applicant_credit_score_type, dtype: int64"
      ]
     },
     "execution_count": 78,
     "metadata": {},
     "output_type": "execute_result"
    }
   ],
   "source": [
    "condition=[\n",
    "    ['1'],     #  equifax\n",
    "    ['2'],     #  experian\n",
    "    ['3'],     #  experian\n",
    "    ['4'],     #  transunion\n",
    "    ['5'],     #  transunion\n",
    "    ['6'],     #  vantage\n",
    "    ['7'],     #  more_than_one\n",
    "    ['8'],     #  other_model\n",
    "    ['9'],     #  other_model\n",
    "    ['1111'],  #  credit_na\n",
    "]\n",
    "\n",
    "results = ['1',\n",
    "            '2',\n",
    "            '3',\n",
    "            '3',\n",
    "            '4',\n",
    "            '4',\n",
    "            '5',\n",
    "            '6',\n",
    "            np.nan,\n",
    "            np.nan\n",
    "        ]\n",
    "\n",
    "hmda_df['applicant_credit_score_type'].replace(condition, results, inplace=True) \n",
    "\n",
    "\n",
    "hmda_df['applicant_credit_score_type'].value_counts(dropna = False)"
   ]
  },
  {
   "cell_type": "markdown",
   "id": "governmental-domain",
   "metadata": {},
   "source": [
    "### 2.5. Clean Debt-to-Income Ratio"
   ]
  },
  {
   "cell_type": "code",
   "execution_count": 79,
   "id": "b0d4dca8",
   "metadata": {},
   "outputs": [],
   "source": [
    "# Creating an exempt feature for the debt-to-income ratio\n",
    "#hmda_df['dti_exempt'] = hmda_df['debt_to_income_ratio'].apply(lambda x: 1 if x in ['Exempt'] else 0) \n",
    "#hmda_df['dti_exempt'] = np.where(hmda_df['debt_to_income_ratio']=='Exempt', 1, 0)"
   ]
  },
  {
   "cell_type": "code",
   "execution_count": 80,
   "id": "7250b2fb",
   "metadata": {},
   "outputs": [
    {
     "data": {
      "text/plain": [
       "20%-<30%    775983\n",
       "30%-<36%    687011\n",
       "<20%        302317\n",
       "42          153310\n",
       "44          146150\n",
       "41          144885\n",
       "40          141255\n",
       "39          140289\n",
       "43          137202\n",
       "38          134882\n",
       "37          131509\n",
       "36          126346\n",
       ">60%        117675\n",
       "49          108649\n",
       "45          104975\n",
       "48           90718\n",
       "46           89676\n",
       "50%-60%      88983\n",
       "47           88062\n",
       "Exempt       86297\n",
       "Name: debt_to_income_ratio, dtype: int64"
      ]
     },
     "execution_count": 80,
     "metadata": {},
     "output_type": "execute_result"
    }
   ],
   "source": [
    "hmda_df['debt_to_income_ratio'].value_counts()"
   ]
  },
  {
   "cell_type": "code",
   "execution_count": 81,
   "id": "1898b1f2",
   "metadata": {},
   "outputs": [],
   "source": [
    "\n",
    "#remaining values are ok ['36', '37', '38', '39', '40', '41', '42','43', '44', '45', '46', '47', '48', '49']\n",
    "\n",
    "condition=[('<20%'),\n",
    "            ('20%-<30%'),\n",
    "            ('30%-<36%'),\n",
    "            ('50%-60%'),\n",
    "            ('>60%'),\n",
    "            ('Exempt')\n",
    "            ]\n",
    "\n",
    "results = ['20',\n",
    "            '25',\n",
    "            '33',\n",
    "            '55',\n",
    "            '65',\n",
    "            np.nan]\n",
    "\n",
    "hmda_df['debt_to_income_ratio'].replace(condition, results, inplace=True) \n",
    "\n"
   ]
  },
  {
   "cell_type": "code",
   "execution_count": 82,
   "id": "a3543e6a",
   "metadata": {},
   "outputs": [
    {
     "data": {
      "text/plain": [
       "25     775983\n",
       "33     687011\n",
       "20     302317\n",
       "NaN    158101\n",
       "42     153310\n",
       "44     146150\n",
       "41     144885\n",
       "40     141255\n",
       "39     140289\n",
       "43     137202\n",
       "38     134882\n",
       "37     131509\n",
       "36     126346\n",
       "65     117675\n",
       "49     108649\n",
       "45     104975\n",
       "48      90718\n",
       "46      89676\n",
       "55      88983\n",
       "47      88062\n",
       "Name: debt_to_income_ratio, dtype: int64"
      ]
     },
     "execution_count": 82,
     "metadata": {},
     "output_type": "execute_result"
    }
   ],
   "source": [
    "hmda_df['debt_to_income_ratio'].value_counts(dropna=False)"
   ]
  },
  {
   "cell_type": "markdown",
   "id": "emotional-integrity",
   "metadata": {},
   "source": [
    "### 2.6. Cleaning Combine Loan-to-Value Ratio, Property value, loan_term"
   ]
  },
  {
   "cell_type": "code",
   "execution_count": 83,
   "id": "379ba618",
   "metadata": {},
   "outputs": [],
   "source": [
    "# Creating an exempt feature for the combined_loan_to_value_ratio\n",
    "#hmda_df['clvr_exempt'] = hmda_df['combined_loan_to_value_ratio'].apply(lambda x: 1 if x in ['Exempt'] else 0) \n",
    "#hmda_df['clvr_exempt'] = np.where(hmda_df['combined_loan_to_value_ratio']=='Exempt', 1, 0)"
   ]
  },
  {
   "cell_type": "code",
   "execution_count": 84,
   "id": "6437ef28",
   "metadata": {},
   "outputs": [],
   "source": [
    "#forcing the values to numbers, which will remove the exempt\n",
    "#hmda_df['combined_loan_to_value_ratio'] = np.where(hmda_df['combined_loan_to_value_ratio']=='Exempt', '-2', hmda_df['combined_loan_to_value_ratio'])\n",
    "cols = ['combined_loan_to_value_ratio', 'loan_term', 'property_value' ]\n",
    "for var in cols:\n",
    "    hmda_df[var] = hmda_df[var].apply(pd.to_numeric, errors='coerce')\n",
    "    hmda_df[var] = hmda_df[var].replace({'0':np.NaN, 0:np.NaN,np.inf:np.NaN,-np.inf:np.NaN})\n",
    "    #hmda_df[x] = hmda_df.x.astype('float')"
   ]
  },
  {
   "cell_type": "markdown",
   "id": "8cd04cf1",
   "metadata": {},
   "source": [
    "### 2.8 Cleaning Conforming loan limit"
   ]
  },
  {
   "cell_type": "code",
   "execution_count": 85,
   "id": "6f9b5038",
   "metadata": {},
   "outputs": [],
   "source": [
    "condition=[('C'),   #Conforming\n",
    "            ('NC'), #Nonconforming\n",
    "            ('U'),  #Undetermined\n",
    "            ('NA') #Not Applicable\n",
    "            ]\n",
    "\n",
    "results = ['1',\n",
    "            '2',\n",
    "            '3',\n",
    "            '4']\n",
    "\n",
    "hmda_df['conforming_loan_limit'].replace(condition, results, inplace=True) \n",
    "\n"
   ]
  },
  {
   "cell_type": "markdown",
   "id": "5ee2f007",
   "metadata": {},
   "source": [
    "### 2.9 Cleaning Applicant/Coapplicant Age"
   ]
  },
  {
   "cell_type": "code",
   "execution_count": 86,
   "id": "19421c45",
   "metadata": {},
   "outputs": [],
   "source": [
    "#defyning the debt-to-income ratio according to...ADD HERE ADD HERE\n",
    "\n",
    "#remaining values are ok ['36', '37', '38', '39', '40', '41', '42','43', '44', '45', '46', '47', '48', '49']\n",
    "\n",
    "condition=[('<25'),\n",
    "           ('25-34'),\n",
    "           ('35-44'),\n",
    "           ('45-54'),\n",
    "           ('55-64'),\n",
    "           ('65-74'),\n",
    "           ('>74'),\n",
    "           ('8888'),\n",
    "           ('9999')\n",
    "            ]\n",
    "\n",
    "results = [20,\n",
    "            30,\n",
    "            40,\n",
    "            50,\n",
    "            60,\n",
    "            70,\n",
    "            80,\n",
    "            np.nan,\n",
    "            np.nan]\n",
    "\n",
    "hmda_df['applicant_age'].replace(condition, results, inplace=True) \n",
    "hmda_df['co_applicant_age'].replace(condition, results, inplace=True) "
   ]
  },
  {
   "cell_type": "markdown",
   "id": "dcf8b545",
   "metadata": {},
   "source": [
    "### 3. Exporting Dataframe for Storage"
   ]
  },
  {
   "cell_type": "markdown",
   "id": "6b15b7dc",
   "metadata": {},
   "source": [
    "### 3. Exporting stage 1 file"
   ]
  },
  {
   "cell_type": "code",
   "execution_count": 91,
   "id": "245abfff",
   "metadata": {},
   "outputs": [
    {
     "name": "stdout",
     "output_type": "stream",
     "text": [
      "<class 'pandas.core.frame.DataFrame'>\n",
      "Int64Index: 3867978 entries, 0 to 3950769\n",
      "Data columns (total 38 columns):\n",
      " #   Column                                    Dtype  \n",
      "---  ------                                    -----  \n",
      " 0   lei                                       object \n",
      " 1   census_tract                              object \n",
      " 2   conforming_loan_limit                     object \n",
      " 3   purchaser_type                            object \n",
      " 4   lien_status                               object \n",
      " 5   open_end_line_of_credit                   object \n",
      " 6   business_or_commercial_purpose            object \n",
      " 7   loan_amount                               object \n",
      " 8   combined_loan_to_value_ratio              float64\n",
      " 9   hoepa_status                              object \n",
      " 10  loan_term                                 float64\n",
      " 11  interest_only_payment                     object \n",
      " 12  property_value                            float64\n",
      " 13  occupancy_type                            object \n",
      " 14  manufactured_home_secured_property_type   object \n",
      " 15  manufactured_home_land_property_interest  object \n",
      " 16  income                                    object \n",
      " 17  debt_to_income_ratio                      object \n",
      " 18  applicant_credit_score_type               object \n",
      " 19  co_applicant_credit_score_type            object \n",
      " 20  applicant_sex                             object \n",
      " 21  co_applicant_sex                          object \n",
      " 22  applicant_age                             float64\n",
      " 23  co_applicant_age                          float64\n",
      " 24  submission_of_application                 object \n",
      " 25  initially_payable_to_institution          object \n",
      " 26  aus_1                                     object \n",
      " 27  denial_reason_1                           object \n",
      " 28  tract_population                          object \n",
      " 29  tract_minority_population_percent         object \n",
      " 30  ffiec_msa_md_median_family_income         object \n",
      " 31  tract_to_msa_income_percentage            object \n",
      " 32  tract_owner_occupied_units                object \n",
      " 33  tract_one_to_four_family_homes            object \n",
      " 34  tract_median_age_of_housing_units         object \n",
      " 35  loan_outcome                              object \n",
      " 36  app_race_ethnicity                        object \n",
      " 37  coapp_race_ethnicity                      object \n",
      "dtypes: float64(5), object(33)\n",
      "memory usage: 1.1+ GB\n"
     ]
    }
   ],
   "source": [
    "hmda_df.info()"
   ]
  },
  {
   "cell_type": "code",
   "execution_count": 88,
   "id": "41b97828",
   "metadata": {},
   "outputs": [],
   "source": [
    "hmda_df.to_csv('../../data/hmda_lar/cleaned_data/1_cleaned_hmda_2021_stage1_Full.csv', index = False)"
   ]
  }
 ],
 "metadata": {
  "kernelspec": {
   "display_name": "Python 3.10.8 64-bit (microsoft store)",
   "language": "python",
   "name": "python3"
  },
  "language_info": {
   "codemirror_mode": {
    "name": "ipython",
    "version": 3
   },
   "file_extension": ".py",
   "mimetype": "text/x-python",
   "name": "python",
   "nbconvert_exporter": "python",
   "pygments_lexer": "ipython3",
   "version": "3.10.8"
  },
  "vscode": {
   "interpreter": {
    "hash": "602bbe8e8fe3127dc2d2bb8f57c49cfbb507be2cc0e090f10eb4c4d0af354b8b"
   }
  }
 },
 "nbformat": 4,
 "nbformat_minor": 5
}
