{
 "cells": [
  {
   "cell_type": "code",
   "execution_count": 1,
   "id": "89207857",
   "metadata": {},
   "outputs": [],
   "source": [
    "#!pip install impyute\n",
    "#pip install ipywidgets\n",
    "#!pip install https://github.com/pandas-profiling/pandas-profiling/archive/master.zip \n",
    "#!pip install Pipeline"
   ]
  },
  {
   "cell_type": "code",
   "execution_count": 89,
   "id": "searching-money",
   "metadata": {},
   "outputs": [
    {
     "name": "stdout",
     "output_type": "stream",
     "text": [
      "The autoreload extension is already loaded. To reload it, use:\n",
      "  %reload_ext autoreload\n"
     ]
    }
   ],
   "source": [
    "%load_ext autoreload\n",
    "%autoreload 2"
   ]
  },
  {
   "cell_type": "code",
   "execution_count": 90,
   "id": "incident-fighter",
   "metadata": {},
   "outputs": [],
   "source": [
    "import pandas as pd\n",
    "import time\n",
    "import random\n",
    "import numpy as np\n",
    "from numpy import quantile, where\n",
    "import matplotlib.pyplot as plt\n",
    "import seaborn as sns\n",
    "import sys\n",
    "import missingno as msno\n",
    "import itertools\n",
    "from pandas_profiling import ProfileReport\n",
    "from math import sqrt\n",
    "\n",
    "from sklearn.model_selection import train_test_split\n",
    "from sklearn.preprocessing import StandardScaler, MinMaxScaler\n",
    "from sklearn.metrics import confusion_matrix, classification_report, accuracy_score, f1_score\n",
    "from sklearn.linear_model import LogisticRegression\n",
    "from sklearn.model_selection import GridSearchCV\n",
    "from sklearn.neighbors import KNeighborsClassifier\n",
    "from sklearn.svm import SVC\n",
    "from sklearn import tree\n",
    "from sklearn.impute import SimpleImputer\n",
    "from  sklearn.neighbors import LocalOutlierFactor\n",
    "from sklearn_pandas import DataFrameMapper\n",
    "from sklearn.pipeline import Pipeline\n",
    "from sklearn.neural_network import MLPClassifier\n",
    "from impyute.imputation.cs import fast_knn, mice\n",
    "from sklearn.ensemble import RandomForestClassifier\n",
    "from sklearn.tree import DecisionTreeClassifier\n",
    "from sklearn import svm\n",
    "from interpret.glassbox import ExplainableBoostingClassifier\n",
    "from interpret import show\n",
    "from interpret.blackbox import LimeTabular\n",
    "from sklearn.model_selection import RandomizedSearchCV\n",
    "import scipy as sp\n",
    "from imblearn.over_sampling import SMOTE, SMOTENC\n",
    "import statsmodels.api as sm\n",
    "import statsmodels.formula.api as smf\n",
    "\n",
    "%matplotlib inline\n",
    "\n",
    "import sys\n",
    "sys.path.append('../..')"
   ]
  },
  {
   "cell_type": "markdown",
   "id": "accepting-interim",
   "metadata": {},
   "source": [
    "### 1. Import Data"
   ]
  },
  {
   "cell_type": "code",
   "execution_count": 91,
   "id": "known-cedar",
   "metadata": {},
   "outputs": [
    {
     "name": "stdout",
     "output_type": "stream",
     "text": [
      "<class 'pandas.core.frame.DataFrame'>\n",
      "RangeIndex: 3867978 entries, 0 to 3867977\n",
      "Data columns (total 36 columns):\n",
      " #   Column                                    Dtype  \n",
      "---  ------                                    -----  \n",
      " 0   conforming_loan_limit                     float64\n",
      " 1   purchaser_type                            int64  \n",
      " 2   lien_status                               int64  \n",
      " 3   open_end_line_of_credit                   int64  \n",
      " 4   business_or_commercial_purpose            int64  \n",
      " 5   loan_amount                               int64  \n",
      " 6   combined_loan_to_value_ratio              float64\n",
      " 7   hoepa_status                              int64  \n",
      " 8   loan_term                                 float64\n",
      " 9   interest_only_payment                     int64  \n",
      " 10  property_value                            float64\n",
      " 11  occupancy_type                            int64  \n",
      " 12  manufactured_home_secured_property_type   int64  \n",
      " 13  manufactured_home_land_property_interest  int64  \n",
      " 14  income                                    float64\n",
      " 15  debt_to_income_ratio                      float64\n",
      " 16  applicant_credit_score_type               float64\n",
      " 17  co_applicant_credit_score_type            int64  \n",
      " 18  applicant_sex                             int64  \n",
      " 19  co_applicant_sex                          int64  \n",
      " 20  applicant_age                             float64\n",
      " 21  co_applicant_age                          float64\n",
      " 22  submission_of_application                 int64  \n",
      " 23  initially_payable_to_institution          int64  \n",
      " 24  aus_1                                     int64  \n",
      " 25  denial_reason_1                           int64  \n",
      " 26  tract_population                          int64  \n",
      " 27  tract_minority_population_percent         float64\n",
      " 28  ffiec_msa_md_median_family_income         int64  \n",
      " 29  tract_to_msa_income_percentage            float64\n",
      " 30  tract_owner_occupied_units                int64  \n",
      " 31  tract_one_to_four_family_homes            int64  \n",
      " 32  tract_median_age_of_housing_units         int64  \n",
      " 33  loan_outcome                              int64  \n",
      " 34  app_race_ethnicity                        float64\n",
      " 35  coapp_race_ethnicity                      float64\n",
      "dtypes: float64(13), int64(23)\n",
      "memory usage: 1.0 GB\n"
     ]
    }
   ],
   "source": [
    "hmda_file = '../../data/hmda_lar/cleaned_data/1_cleaned_hmda_2021_stage1_Full.csv'\n",
    "with open(hmda_file) as f:\n",
    "    ncols = len(f.readline().split(','))\n",
    "\n",
    "hmda_df = pd.read_csv(hmda_file, usecols=[i for i in range(2,ncols)]) # Removing lei and census track from import\n",
    "\n",
    "hmda_df.info()"
   ]
  },
  {
   "cell_type": "markdown",
   "id": "20f7c72c",
   "metadata": {},
   "source": [
    "#####################################################3"
   ]
  },
  {
   "cell_type": "code",
   "execution_count": 92,
   "id": "220ac0b2",
   "metadata": {},
   "outputs": [],
   "source": [
    "\n",
    "Categorical = pd.DataFrame(hmda_df.apply(pd.Series.nunique))\n",
    "Categorical.reset_index(inplace=True)"
   ]
  },
  {
   "cell_type": "code",
   "execution_count": 93,
   "id": "a9947b15",
   "metadata": {},
   "outputs": [],
   "source": [
    "for dd in range(0,len(Categorical)):\n",
    "    if Categorical.iloc[dd,1]<15 and Categorical.iloc[dd,0]!='loan_outcome': # defined that if a variable with less than 15 categories are categorical\n",
    "        cat = Categorical.iloc[dd,0]\n",
    "        hmda_df[cat]= hmda_df[cat].astype('category')"
   ]
  },
  {
   "cell_type": "code",
   "execution_count": 94,
   "id": "0d89799b",
   "metadata": {},
   "outputs": [
    {
     "name": "stdout",
     "output_type": "stream",
     "text": [
      "<class 'pandas.core.frame.DataFrame'>\n",
      "RangeIndex: 3867978 entries, 0 to 3867977\n",
      "Data columns (total 36 columns):\n",
      " #   Column                                    Dtype   \n",
      "---  ------                                    -----   \n",
      " 0   conforming_loan_limit                     category\n",
      " 1   purchaser_type                            category\n",
      " 2   lien_status                               category\n",
      " 3   open_end_line_of_credit                   category\n",
      " 4   business_or_commercial_purpose            category\n",
      " 5   loan_amount                               int64   \n",
      " 6   combined_loan_to_value_ratio              float64 \n",
      " 7   hoepa_status                              category\n",
      " 8   loan_term                                 float64 \n",
      " 9   interest_only_payment                     category\n",
      " 10  property_value                            float64 \n",
      " 11  occupancy_type                            category\n",
      " 12  manufactured_home_secured_property_type   category\n",
      " 13  manufactured_home_land_property_interest  category\n",
      " 14  income                                    float64 \n",
      " 15  debt_to_income_ratio                      float64 \n",
      " 16  applicant_credit_score_type               category\n",
      " 17  co_applicant_credit_score_type            category\n",
      " 18  applicant_sex                             category\n",
      " 19  co_applicant_sex                          category\n",
      " 20  applicant_age                             category\n",
      " 21  co_applicant_age                          category\n",
      " 22  submission_of_application                 category\n",
      " 23  initially_payable_to_institution          category\n",
      " 24  aus_1                                     category\n",
      " 25  denial_reason_1                           category\n",
      " 26  tract_population                          int64   \n",
      " 27  tract_minority_population_percent         float64 \n",
      " 28  ffiec_msa_md_median_family_income         int64   \n",
      " 29  tract_to_msa_income_percentage            float64 \n",
      " 30  tract_owner_occupied_units                int64   \n",
      " 31  tract_one_to_four_family_homes            int64   \n",
      " 32  tract_median_age_of_housing_units         int64   \n",
      " 33  loan_outcome                              int64   \n",
      " 34  app_race_ethnicity                        category\n",
      " 35  coapp_race_ethnicity                      category\n",
      "dtypes: category(22), float64(7), int64(7)\n",
      "memory usage: 494.3 MB\n"
     ]
    }
   ],
   "source": [
    "hmda_df.info()"
   ]
  },
  {
   "cell_type": "code",
   "execution_count": 8,
   "id": "c78c60e9",
   "metadata": {},
   "outputs": [
    {
     "data": {
      "application/vnd.jupyter.widget-view+json": {
       "model_id": "a6fd9ff50ca144f5a37b48e0aa78eb33",
       "version_major": 2,
       "version_minor": 0
      },
      "text/plain": [
       "Summarize dataset:   0%|          | 0/5 [00:00<?, ?it/s]"
      ]
     },
     "metadata": {},
     "output_type": "display_data"
    },
    {
     "name": "stderr",
     "output_type": "stream",
     "text": [
      "C:\\Users\\danie\\AppData\\Local\\Packages\\PythonSoftwareFoundation.Python.3.10_qbz5n2kfra8p0\\LocalCache\\local-packages\\Python310\\site-packages\\multimethod\\__init__.py:315: FutureWarning: iteritems is deprecated and will be removed in a future version. Use .items instead.\n",
      "  return func(*args, **kwargs)\n"
     ]
    },
    {
     "data": {
      "application/vnd.jupyter.widget-view+json": {
       "model_id": "be2bbfe8b7684a6f8e7d023952e34e0a",
       "version_major": 2,
       "version_minor": 0
      },
      "text/plain": [
       "Generate report structure:   0%|          | 0/1 [00:00<?, ?it/s]"
      ]
     },
     "metadata": {},
     "output_type": "display_data"
    },
    {
     "data": {
      "application/vnd.jupyter.widget-view+json": {
       "model_id": "e38306120039430ebca1a0b44b9a2d48",
       "version_major": 2,
       "version_minor": 0
      },
      "text/plain": [
       "Render HTML:   0%|          | 0/1 [00:00<?, ?it/s]"
      ]
     },
     "metadata": {},
     "output_type": "display_data"
    },
    {
     "data": {
      "application/vnd.jupyter.widget-view+json": {
       "model_id": "b6ae44d73e484395b75d8101acaabee9",
       "version_major": 2,
       "version_minor": 0
      },
      "text/plain": [
       "Export report to file:   0%|          | 0/1 [00:00<?, ?it/s]"
      ]
     },
     "metadata": {},
     "output_type": "display_data"
    }
   ],
   "source": [
    "profile = ProfileReport(hmda_df, minimal=True)\n",
    "profile.to_file(output_file=\"output.html\")"
   ]
  },
  {
   "cell_type": "code",
   "execution_count": null,
   "id": "ea9d1b4b",
   "metadata": {},
   "outputs": [],
   "source": [
    "vantage3 = hmda_df[hmda_df['applicant_credit_score_type']==6]"
   ]
  },
  {
   "cell_type": "markdown",
   "id": "8368e226",
   "metadata": {},
   "source": [
    "looks at the Approval (1)/denial (0) of Loans that used Vantage Credit Score model. App_race defined as below\n",
    "- 1: Native American\n",
    "- 2: Asian\n",
    "- 3: Black\n",
    "- 4: Pacific Islander\n",
    "- 5: White\n",
    "- 6: Latino"
   ]
  },
  {
   "cell_type": "code",
   "execution_count": 110,
   "id": "6e03df05",
   "metadata": {},
   "outputs": [
    {
     "data": {
      "text/plain": [
       "app_race_ethnicity  loan_outcome\n",
       "1.0                 0                1809\n",
       "                    1                 523\n",
       "2.0                 0                2557\n",
       "                    1                3448\n",
       "3.0                 0               14738\n",
       "                    1                3822\n",
       "4.0                 0                 114\n",
       "                    1                  59\n",
       "5.0                 0               43699\n",
       "                    1               39177\n",
       "6.0                 0               12118\n",
       "                    1                5781\n",
       "Name: loan_amount, dtype: int64"
      ]
     },
     "execution_count": 110,
     "metadata": {},
     "output_type": "execute_result"
    }
   ],
   "source": [
    "vantage3.groupby(by=['app_race_ethnicity', 'loan_outcome'])['loan_amount'].count()\n"
   ]
  },
  {
   "cell_type": "code",
   "execution_count": 108,
   "id": "a1068745",
   "metadata": {},
   "outputs": [],
   "source": [
    "FICO = hmda_df[(hmda_df['applicant_credit_score_type']==1) | (hmda_df['applicant_credit_score_type']==2) | (hmda_df['applicant_credit_score_type']==3) | (hmda_df['applicant_credit_score_type']==4)]"
   ]
  },
  {
   "cell_type": "markdown",
   "id": "0f58d353",
   "metadata": {},
   "source": [
    "looks at the Approval (1)/denial (0) of Loans that used FICO Credit Score model. App_race defined as below\n",
    "- 1: Native American\n",
    "- 2: Asian\n",
    "- 3: Black\n",
    "- 4: Pacific Islander\n",
    "- 5: White\n",
    "- 6: Latino"
   ]
  },
  {
   "cell_type": "code",
   "execution_count": 111,
   "id": "b9f7c3d6",
   "metadata": {},
   "outputs": [
    {
     "data": {
      "text/plain": [
       "app_race_ethnicity  loan_outcome\n",
       "1.0                 0                  3851\n",
       "                    1                 14716\n",
       "2.0                 0                 27684\n",
       "                    1                323461\n",
       "3.0                 0                 50282\n",
       "                    1                166142\n",
       "4.0                 0                   687\n",
       "                    1                  4913\n",
       "5.0                 0                184629\n",
       "                    1               2017193\n",
       "6.0                 0                 61430\n",
       "                    1                342238\n",
       "Name: loan_amount, dtype: int64"
      ]
     },
     "execution_count": 111,
     "metadata": {},
     "output_type": "execute_result"
    }
   ],
   "source": [
    "\n",
    "FICO.groupby(by=['app_race_ethnicity', 'loan_outcome'])['loan_amount'].count()\n"
   ]
  },
  {
   "cell_type": "markdown",
   "id": "8964c38a",
   "metadata": {},
   "source": [
    "### Feature selection for do One-Hot-Encoding"
   ]
  },
  {
   "cell_type": "code",
   "execution_count": 9,
   "id": "f93224c5",
   "metadata": {},
   "outputs": [],
   "source": [
    "def create_dummy_vars(df, columns, added_cols):\n",
    "    '''\n",
    "    Create dummy variables based on values being isolated in the list of dict being passed\n",
    "    '''\n",
    "\n",
    "    for column in columns:\n",
    "        dummy_vars = columns[column]\n",
    "\n",
    "        for dummy_var in dummy_vars:\n",
    "\n",
    "            var_value = dummy_vars[dummy_var]\n",
    "\n",
    "            df.loc[(df[column].isin(var_value)), dummy_var] = 0\n",
    "            df.loc[~(df[column].isin(var_value)), dummy_var] = 1\n",
    "            added_cols.append(dummy_var)\n",
    "\n",
    "    return df, added_cols\n"
   ]
  },
  {
   "cell_type": "code",
   "execution_count": 10,
   "id": "4401426d",
   "metadata": {},
   "outputs": [],
   "source": [
    "one_hot_cols = [                   \n",
    "                   ### reference: Conforming\n",
    "                   {'conforming_loan_limit': {'Nonconforming': [2], 'Undetermined': [3]}},\n",
    "\n",
    "                   ### reference: no cover loan purchase\n",
    "                   {'purchaser_type': {'gov_sponsored_loan_pchase': [1, 2, 3, 4],\n",
    "                                       'banks_mtg_loan_pchase':[6, 71], 'othr_loan_pchase':[72, 8, 9]}},\n",
    "                   \n",
    "                   \n",
    "                    ### Reference: No_Coapplicant\n",
    "                   {'coapp_race_ethnicity': {'coapp_white': [5], 'coapp_black': [3], 'coapp_latino': [6], 'coapp_asian': [2], 'coapp_native': [1],\n",
    "                                             'coapp_pac_islander': [4]\n",
    "                                             }}, #using a different column to determine whether a co-applicant participated in the loan\n",
    "\n",
    "                    ### Reference: Coapplicant\n",
    "                   {'co_applicant_sex': { 'coapp_female': [2]}}, #using a different column to determine whether a co-applicant participat 'coapp_male': [1],\n",
    "\n",
    "                   ### reference: other loan purposes\n",
    "                   #{'loan_purpose': {'home_purchase': [1], 'home_improve_ppose': [2], 'refinancing_ppose':[31, 32]\n",
    "                                     #, 'othr_ppose':[4, 5] }},\n",
    "                   \n",
    "                    ### reference: Secured by a first lien\n",
    "                   {'lien_status': {'subord_lien_loan_sec': [2]}},                                                         \n",
    "\n",
    "                   ### Reference:   Not an open-end line of credit\n",
    "                   {'open_end_line_of_credit': {'open_end_line_credit': [1]}},\n",
    "                   \n",
    "                   ### Reference: High-cost mortgage\n",
    "                   #{'hoepa_status': {'not_high_cost_mtgage': [2]}},                   \n",
    "\n",
    "                   ### Reference: no reference\n",
    "                   {'applicant_credit_score_type': {'FICO_credit_check': [1, 2, 3], 'vantage_credit_check': [6], \n",
    "                                           'other_credit_check': [5, 6]}},\n",
    "                   \n",
    "                   {'co_applicant_credit_score_type': {'coapp_FICO_credit_check': [1, 2, 3], 'coapp_vantage_credit_check': [6],\n",
    "                                                       'coapp_other_credit_check': [5, 6]}},\n",
    "                   \n",
    "                   ### Reference: Not used AUS underwriting\n",
    "                   {'aus_1': {'DU_aus': [1], 'LP_aus': [2], 'tech_open_aus': [3], \n",
    "                              'other_aus': [4, 5, 6, 7]}},                   \n",
    "\n",
    "                   ### Reference: White\n",
    "                   {'app_race_ethnicity': {'black': [3], 'latino': [6], 'asian': [2], 'native': [1],\n",
    "                                           'pac_islander': [4]}},  # 'race_na': [7], 'pac_islander': [4], 'white': [5],\n",
    "                                      \n",
    "                   ### Reference: Male\n",
    "                   {'applicant_sex': { 'female': [2]}}, #, 'sex_na': [3, 6], 'male':[1],\n",
    "                   \n",
    "\n",
    "]\n"
   ]
  },
  {
   "cell_type": "code",
   "execution_count": 11,
   "id": "72309e8c",
   "metadata": {},
   "outputs": [],
   "source": [
    "ohe_cols = []\n",
    "for columns in one_hot_cols:\n",
    "    ### Function to create dummy variables\n",
    "    hmda_df, ohe_cols = create_dummy_vars(hmda_df, columns, ohe_cols)\n",
    "    "
   ]
  },
  {
   "cell_type": "code",
   "execution_count": 12,
   "id": "5f5a3aee",
   "metadata": {},
   "outputs": [],
   "source": [
    "hmda_df = hmda_df.select_dtypes(exclude=['category'])"
   ]
  },
  {
   "cell_type": "code",
   "execution_count": 13,
   "id": "e886e21a",
   "metadata": {},
   "outputs": [
    {
     "name": "stdout",
     "output_type": "stream",
     "text": [
      "<class 'pandas.core.frame.DataFrame'>\n",
      "RangeIndex: 3867978 entries, 0 to 3867977\n",
      "Data columns (total 44 columns):\n",
      " #   Column                             Dtype   \n",
      "---  ------                             -----   \n",
      " 0   loan_amount                        int64   \n",
      " 1   combined_loan_to_value_ratio       float64 \n",
      " 2   loan_term                          float64 \n",
      " 3   property_value                     float64 \n",
      " 4   income                             float64 \n",
      " 5   debt_to_income_ratio               float64 \n",
      " 6   tract_population                   int64   \n",
      " 7   tract_minority_population_percent  float64 \n",
      " 8   ffiec_msa_md_median_family_income  int64   \n",
      " 9   tract_to_msa_income_percentage     float64 \n",
      " 10  tract_owner_occupied_units         int64   \n",
      " 11  tract_one_to_four_family_homes     int64   \n",
      " 12  tract_median_age_of_housing_units  int64   \n",
      " 13  loan_outcome                       int64   \n",
      " 14  Nonconforming                      category\n",
      " 15  Undetermined                       category\n",
      " 16  gov_sponsored_loan_pchase          category\n",
      " 17  banks_mtg_loan_pchase              category\n",
      " 18  othr_loan_pchase                   category\n",
      " 19  coapp_white                        category\n",
      " 20  coapp_black                        category\n",
      " 21  coapp_latino                       category\n",
      " 22  coapp_asian                        category\n",
      " 23  coapp_native                       category\n",
      " 24  coapp_pac_islander                 category\n",
      " 25  coapp_female                       category\n",
      " 26  subord_lien_loan_sec               category\n",
      " 27  open_end_line_credit               category\n",
      " 28  FICO_credit_check                  category\n",
      " 29  vantage_credit_check               category\n",
      " 30  other_credit_check                 category\n",
      " 31  coapp_FICO_credit_check            category\n",
      " 32  coapp_vantage_credit_check         category\n",
      " 33  coapp_other_credit_check           category\n",
      " 34  DU_aus                             category\n",
      " 35  LP_aus                             category\n",
      " 36  tech_open_aus                      category\n",
      " 37  other_aus                          category\n",
      " 38  black                              category\n",
      " 39  latino                             category\n",
      " 40  asian                              category\n",
      " 41  native                             category\n",
      " 42  pac_islander                       category\n",
      " 43  female                             category\n",
      "dtypes: category(30), float64(7), int64(7)\n",
      "memory usage: 523.8 MB\n"
     ]
    }
   ],
   "source": [
    "#setting features as categorical\n",
    "for dd in ohe_cols:\n",
    "        hmda_df[dd]= hmda_df[dd].astype('category')\n",
    "hmda_df.info()"
   ]
  },
  {
   "cell_type": "code",
   "execution_count": 14,
   "id": "7eb54f2f",
   "metadata": {},
   "outputs": [
    {
     "data": {
      "text/plain": [
       "' profile = ProfileReport(hmda_df, minimal=True)\\nprofile.to_file(output_file=\"output.html\") '"
      ]
     },
     "execution_count": 14,
     "metadata": {},
     "output_type": "execute_result"
    }
   ],
   "source": [
    "\"\"\" profile = ProfileReport(hmda_df, minimal=True)\n",
    "profile.to_file(output_file=\"output.html\") \"\"\""
   ]
  },
  {
   "cell_type": "code",
   "execution_count": 15,
   "id": "d0134e87",
   "metadata": {},
   "outputs": [],
   "source": [
    "#msno.bar(hmda_df)"
   ]
  },
  {
   "cell_type": "markdown",
   "id": "2f1c9c11",
   "metadata": {},
   "source": [
    "### Analyzing, Detecting and Cleaning Outliers"
   ]
  },
  {
   "cell_type": "code",
   "execution_count": 16,
   "id": "170524f5",
   "metadata": {},
   "outputs": [
    {
     "data": {
      "text/html": [
       "<div>\n",
       "<style scoped>\n",
       "    .dataframe tbody tr th:only-of-type {\n",
       "        vertical-align: middle;\n",
       "    }\n",
       "\n",
       "    .dataframe tbody tr th {\n",
       "        vertical-align: top;\n",
       "    }\n",
       "\n",
       "    .dataframe thead th {\n",
       "        text-align: right;\n",
       "    }\n",
       "</style>\n",
       "<table border=\"1\" class=\"dataframe\">\n",
       "  <thead>\n",
       "    <tr style=\"text-align: right;\">\n",
       "      <th></th>\n",
       "      <th>loan_amount</th>\n",
       "      <th>combined_loan_to_value_ratio</th>\n",
       "      <th>loan_term</th>\n",
       "      <th>property_value</th>\n",
       "      <th>income</th>\n",
       "      <th>debt_to_income_ratio</th>\n",
       "      <th>tract_population</th>\n",
       "      <th>tract_minority_population_percent</th>\n",
       "      <th>ffiec_msa_md_median_family_income</th>\n",
       "      <th>tract_to_msa_income_percentage</th>\n",
       "      <th>tract_owner_occupied_units</th>\n",
       "      <th>tract_one_to_four_family_homes</th>\n",
       "      <th>tract_median_age_of_housing_units</th>\n",
       "      <th>loan_outcome</th>\n",
       "    </tr>\n",
       "  </thead>\n",
       "  <tbody>\n",
       "    <tr>\n",
       "      <th>count</th>\n",
       "      <td>3.867978e+06</td>\n",
       "      <td>3.527019e+06</td>\n",
       "      <td>3.765884e+06</td>\n",
       "      <td>3.726702e+06</td>\n",
       "      <td>3.806071e+06</td>\n",
       "      <td>3.709877e+06</td>\n",
       "      <td>3.867978e+06</td>\n",
       "      <td>3.867978e+06</td>\n",
       "      <td>3.867978e+06</td>\n",
       "      <td>3.867978e+06</td>\n",
       "      <td>3.867978e+06</td>\n",
       "      <td>3.867978e+06</td>\n",
       "      <td>3.867978e+06</td>\n",
       "      <td>3.867978e+06</td>\n",
       "    </tr>\n",
       "    <tr>\n",
       "      <th>mean</th>\n",
       "      <td>3.339267e+05</td>\n",
       "      <td>2.343031e+02</td>\n",
       "      <td>3.374085e+02</td>\n",
       "      <td>4.500381e+05</td>\n",
       "      <td>1.527083e+02</td>\n",
       "      <td>3.603819e+01</td>\n",
       "      <td>5.584771e+03</td>\n",
       "      <td>2.916868e+01</td>\n",
       "      <td>8.155320e+04</td>\n",
       "      <td>1.140501e+02</td>\n",
       "      <td>1.457457e+03</td>\n",
       "      <td>1.994954e+03</td>\n",
       "      <td>3.444883e+01</td>\n",
       "      <td>8.768936e-01</td>\n",
       "    </tr>\n",
       "    <tr>\n",
       "      <th>std</th>\n",
       "      <td>8.459874e+05</td>\n",
       "      <td>1.174432e+05</td>\n",
       "      <td>6.137480e+01</td>\n",
       "      <td>9.594458e+05</td>\n",
       "      <td>9.101798e+03</td>\n",
       "      <td>1.035135e+01</td>\n",
       "      <td>3.351337e+03</td>\n",
       "      <td>2.409645e+01</td>\n",
       "      <td>1.972063e+04</td>\n",
       "      <td>4.542544e+01</td>\n",
       "      <td>9.546738e+02</td>\n",
       "      <td>1.209501e+03</td>\n",
       "      <td>1.815644e+01</td>\n",
       "      <td>3.285594e-01</td>\n",
       "    </tr>\n",
       "    <tr>\n",
       "      <th>min</th>\n",
       "      <td>5.000000e+03</td>\n",
       "      <td>1.000000e-03</td>\n",
       "      <td>1.000000e+00</td>\n",
       "      <td>5.000000e+03</td>\n",
       "      <td>-3.590040e+05</td>\n",
       "      <td>2.000000e+01</td>\n",
       "      <td>0.000000e+00</td>\n",
       "      <td>0.000000e+00</td>\n",
       "      <td>0.000000e+00</td>\n",
       "      <td>0.000000e+00</td>\n",
       "      <td>0.000000e+00</td>\n",
       "      <td>0.000000e+00</td>\n",
       "      <td>-1.000000e+00</td>\n",
       "      <td>0.000000e+00</td>\n",
       "    </tr>\n",
       "    <tr>\n",
       "      <th>25%</th>\n",
       "      <td>1.550000e+05</td>\n",
       "      <td>7.562100e+01</td>\n",
       "      <td>3.600000e+02</td>\n",
       "      <td>2.150000e+05</td>\n",
       "      <td>6.000000e+01</td>\n",
       "      <td>2.500000e+01</td>\n",
       "      <td>3.692000e+03</td>\n",
       "      <td>1.041000e+01</td>\n",
       "      <td>7.060000e+04</td>\n",
       "      <td>8.700000e+01</td>\n",
       "      <td>9.020000e+02</td>\n",
       "      <td>1.306000e+03</td>\n",
       "      <td>2.100000e+01</td>\n",
       "      <td>1.000000e+00</td>\n",
       "    </tr>\n",
       "    <tr>\n",
       "      <th>50%</th>\n",
       "      <td>2.650000e+05</td>\n",
       "      <td>8.000000e+01</td>\n",
       "      <td>3.600000e+02</td>\n",
       "      <td>3.450000e+05</td>\n",
       "      <td>9.600000e+01</td>\n",
       "      <td>3.600000e+01</td>\n",
       "      <td>5.055000e+03</td>\n",
       "      <td>2.187000e+01</td>\n",
       "      <td>7.970000e+04</td>\n",
       "      <td>1.090000e+02</td>\n",
       "      <td>1.318000e+03</td>\n",
       "      <td>1.813000e+03</td>\n",
       "      <td>3.200000e+01</td>\n",
       "      <td>1.000000e+00</td>\n",
       "    </tr>\n",
       "    <tr>\n",
       "      <th>75%</th>\n",
       "      <td>4.150000e+05</td>\n",
       "      <td>9.500000e+01</td>\n",
       "      <td>3.600000e+02</td>\n",
       "      <td>5.350000e+05</td>\n",
       "      <td>1.550000e+02</td>\n",
       "      <td>4.300000e+01</td>\n",
       "      <td>6.718000e+03</td>\n",
       "      <td>4.175000e+01</td>\n",
       "      <td>8.930000e+04</td>\n",
       "      <td>1.360000e+02</td>\n",
       "      <td>1.812000e+03</td>\n",
       "      <td>2.450000e+03</td>\n",
       "      <td>4.600000e+01</td>\n",
       "      <td>1.000000e+00</td>\n",
       "    </tr>\n",
       "    <tr>\n",
       "      <th>max</th>\n",
       "      <td>1.409715e+09</td>\n",
       "      <td>1.099700e+08</td>\n",
       "      <td>3.690000e+03</td>\n",
       "      <td>1.410005e+09</td>\n",
       "      <td>1.200024e+07</td>\n",
       "      <td>6.500000e+01</td>\n",
       "      <td>5.381200e+04</td>\n",
       "      <td>1.000000e+02</td>\n",
       "      <td>1.630000e+05</td>\n",
       "      <td>5.070000e+02</td>\n",
       "      <td>1.952900e+04</td>\n",
       "      <td>2.539100e+04</td>\n",
       "      <td>7.600000e+01</td>\n",
       "      <td>1.000000e+00</td>\n",
       "    </tr>\n",
       "  </tbody>\n",
       "</table>\n",
       "</div>"
      ],
      "text/plain": [
       "        loan_amount  combined_loan_to_value_ratio     loan_term  \\\n",
       "count  3.867978e+06                  3.527019e+06  3.765884e+06   \n",
       "mean   3.339267e+05                  2.343031e+02  3.374085e+02   \n",
       "std    8.459874e+05                  1.174432e+05  6.137480e+01   \n",
       "min    5.000000e+03                  1.000000e-03  1.000000e+00   \n",
       "25%    1.550000e+05                  7.562100e+01  3.600000e+02   \n",
       "50%    2.650000e+05                  8.000000e+01  3.600000e+02   \n",
       "75%    4.150000e+05                  9.500000e+01  3.600000e+02   \n",
       "max    1.409715e+09                  1.099700e+08  3.690000e+03   \n",
       "\n",
       "       property_value        income  debt_to_income_ratio  tract_population  \\\n",
       "count    3.726702e+06  3.806071e+06          3.709877e+06      3.867978e+06   \n",
       "mean     4.500381e+05  1.527083e+02          3.603819e+01      5.584771e+03   \n",
       "std      9.594458e+05  9.101798e+03          1.035135e+01      3.351337e+03   \n",
       "min      5.000000e+03 -3.590040e+05          2.000000e+01      0.000000e+00   \n",
       "25%      2.150000e+05  6.000000e+01          2.500000e+01      3.692000e+03   \n",
       "50%      3.450000e+05  9.600000e+01          3.600000e+01      5.055000e+03   \n",
       "75%      5.350000e+05  1.550000e+02          4.300000e+01      6.718000e+03   \n",
       "max      1.410005e+09  1.200024e+07          6.500000e+01      5.381200e+04   \n",
       "\n",
       "       tract_minority_population_percent  ffiec_msa_md_median_family_income  \\\n",
       "count                       3.867978e+06                       3.867978e+06   \n",
       "mean                        2.916868e+01                       8.155320e+04   \n",
       "std                         2.409645e+01                       1.972063e+04   \n",
       "min                         0.000000e+00                       0.000000e+00   \n",
       "25%                         1.041000e+01                       7.060000e+04   \n",
       "50%                         2.187000e+01                       7.970000e+04   \n",
       "75%                         4.175000e+01                       8.930000e+04   \n",
       "max                         1.000000e+02                       1.630000e+05   \n",
       "\n",
       "       tract_to_msa_income_percentage  tract_owner_occupied_units  \\\n",
       "count                    3.867978e+06                3.867978e+06   \n",
       "mean                     1.140501e+02                1.457457e+03   \n",
       "std                      4.542544e+01                9.546738e+02   \n",
       "min                      0.000000e+00                0.000000e+00   \n",
       "25%                      8.700000e+01                9.020000e+02   \n",
       "50%                      1.090000e+02                1.318000e+03   \n",
       "75%                      1.360000e+02                1.812000e+03   \n",
       "max                      5.070000e+02                1.952900e+04   \n",
       "\n",
       "       tract_one_to_four_family_homes  tract_median_age_of_housing_units  \\\n",
       "count                    3.867978e+06                       3.867978e+06   \n",
       "mean                     1.994954e+03                       3.444883e+01   \n",
       "std                      1.209501e+03                       1.815644e+01   \n",
       "min                      0.000000e+00                      -1.000000e+00   \n",
       "25%                      1.306000e+03                       2.100000e+01   \n",
       "50%                      1.813000e+03                       3.200000e+01   \n",
       "75%                      2.450000e+03                       4.600000e+01   \n",
       "max                      2.539100e+04                       7.600000e+01   \n",
       "\n",
       "       loan_outcome  \n",
       "count  3.867978e+06  \n",
       "mean   8.768936e-01  \n",
       "std    3.285594e-01  \n",
       "min    0.000000e+00  \n",
       "25%    1.000000e+00  \n",
       "50%    1.000000e+00  \n",
       "75%    1.000000e+00  \n",
       "max    1.000000e+00  "
      ]
     },
     "execution_count": 16,
     "metadata": {},
     "output_type": "execute_result"
    }
   ],
   "source": [
    "hmda_df.describe()"
   ]
  },
  {
   "cell_type": "markdown",
   "id": "d4d5c272",
   "metadata": {},
   "source": [
    "based on column by column analysis it feels better to remove outliers on a column basis"
   ]
  },
  {
   "cell_type": "code",
   "execution_count": 17,
   "id": "2f800862",
   "metadata": {},
   "outputs": [],
   "source": [
    "def data_clean(df, col, high, low):\n",
    "    df[col] = np.where(df[col]>high , np.nan, df[col])\n",
    "    df[col] = np.where(df[col]<low , np.nan, df[col]) # None of the columns are supposed to have negative values\n",
    "    #return df"
   ]
  },
  {
   "cell_type": "code",
   "execution_count": 18,
   "id": "ef625dfe",
   "metadata": {},
   "outputs": [],
   "source": [
    "# loan amount"
   ]
  },
  {
   "cell_type": "markdown",
   "id": "fbf27e94",
   "metadata": {},
   "source": [
    "An analysis of property value and combined loan to value rate indicate >100M dolar homes as valid data. However, we'll consider loans > 100M as outliers. there are 8,000 loans wich the loan is less than $8,000 but we're not considering them as outliers at this point."
   ]
  },
  {
   "cell_type": "code",
   "execution_count": 19,
   "id": "6685c3e4",
   "metadata": {},
   "outputs": [
    {
     "data": {
      "text/html": [
       "<div>\n",
       "<style scoped>\n",
       "    .dataframe tbody tr th:only-of-type {\n",
       "        vertical-align: middle;\n",
       "    }\n",
       "\n",
       "    .dataframe tbody tr th {\n",
       "        vertical-align: top;\n",
       "    }\n",
       "\n",
       "    .dataframe thead th {\n",
       "        text-align: right;\n",
       "    }\n",
       "</style>\n",
       "<table border=\"1\" class=\"dataframe\">\n",
       "  <thead>\n",
       "    <tr style=\"text-align: right;\">\n",
       "      <th></th>\n",
       "      <th>loan_amount</th>\n",
       "      <th>combined_loan_to_value_ratio</th>\n",
       "      <th>loan_term</th>\n",
       "      <th>property_value</th>\n",
       "      <th>income</th>\n",
       "      <th>debt_to_income_ratio</th>\n",
       "      <th>tract_population</th>\n",
       "      <th>tract_minority_population_percent</th>\n",
       "      <th>ffiec_msa_md_median_family_income</th>\n",
       "      <th>tract_to_msa_income_percentage</th>\n",
       "      <th>...</th>\n",
       "      <th>DU_aus</th>\n",
       "      <th>LP_aus</th>\n",
       "      <th>tech_open_aus</th>\n",
       "      <th>other_aus</th>\n",
       "      <th>black</th>\n",
       "      <th>latino</th>\n",
       "      <th>asian</th>\n",
       "      <th>native</th>\n",
       "      <th>pac_islander</th>\n",
       "      <th>female</th>\n",
       "    </tr>\n",
       "  </thead>\n",
       "  <tbody>\n",
       "    <tr>\n",
       "      <th>98379</th>\n",
       "      <td>613605000</td>\n",
       "      <td>NaN</td>\n",
       "      <td>NaN</td>\n",
       "      <td>NaN</td>\n",
       "      <td>1196.0</td>\n",
       "      <td>NaN</td>\n",
       "      <td>3741</td>\n",
       "      <td>19.99</td>\n",
       "      <td>98900</td>\n",
       "      <td>316.0</td>\n",
       "      <td>...</td>\n",
       "      <td>1.0</td>\n",
       "      <td>1.0</td>\n",
       "      <td>1.0</td>\n",
       "      <td>1.0</td>\n",
       "      <td>1.0</td>\n",
       "      <td>1.0</td>\n",
       "      <td>1.0</td>\n",
       "      <td>1.0</td>\n",
       "      <td>1.0</td>\n",
       "      <td>1.0</td>\n",
       "    </tr>\n",
       "    <tr>\n",
       "      <th>559437</th>\n",
       "      <td>1409715000</td>\n",
       "      <td>99.98</td>\n",
       "      <td>NaN</td>\n",
       "      <td>1.410005e+09</td>\n",
       "      <td>153.0</td>\n",
       "      <td>41.0</td>\n",
       "      <td>3591</td>\n",
       "      <td>19.60</td>\n",
       "      <td>85500</td>\n",
       "      <td>80.0</td>\n",
       "      <td>...</td>\n",
       "      <td>1.0</td>\n",
       "      <td>1.0</td>\n",
       "      <td>1.0</td>\n",
       "      <td>0.0</td>\n",
       "      <td>1.0</td>\n",
       "      <td>1.0</td>\n",
       "      <td>1.0</td>\n",
       "      <td>1.0</td>\n",
       "      <td>1.0</td>\n",
       "      <td>1.0</td>\n",
       "    </tr>\n",
       "  </tbody>\n",
       "</table>\n",
       "<p>2 rows × 44 columns</p>\n",
       "</div>"
      ],
      "text/plain": [
       "        loan_amount  combined_loan_to_value_ratio  loan_term  property_value  \\\n",
       "98379     613605000                           NaN        NaN             NaN   \n",
       "559437   1409715000                         99.98        NaN    1.410005e+09   \n",
       "\n",
       "        income  debt_to_income_ratio  tract_population  \\\n",
       "98379   1196.0                   NaN              3741   \n",
       "559437   153.0                  41.0              3591   \n",
       "\n",
       "        tract_minority_population_percent  ffiec_msa_md_median_family_income  \\\n",
       "98379                               19.99                              98900   \n",
       "559437                              19.60                              85500   \n",
       "\n",
       "        tract_to_msa_income_percentage  ...  DU_aus  LP_aus  tech_open_aus  \\\n",
       "98379                            316.0  ...     1.0     1.0            1.0   \n",
       "559437                            80.0  ...     1.0     1.0            1.0   \n",
       "\n",
       "        other_aus black latino asian native pac_islander female  \n",
       "98379         1.0   1.0    1.0   1.0    1.0          1.0    1.0  \n",
       "559437        0.0   1.0    1.0   1.0    1.0          1.0    1.0  \n",
       "\n",
       "[2 rows x 44 columns]"
      ]
     },
     "execution_count": 19,
     "metadata": {},
     "output_type": "execute_result"
    }
   ],
   "source": [
    "hmda_df[hmda_df['loan_amount']>1.000005e+08]"
   ]
  },
  {
   "cell_type": "code",
   "execution_count": 20,
   "id": "673f67de",
   "metadata": {},
   "outputs": [],
   "source": [
    "data_clean(hmda_df, 'loan_amount', 100000000, 0)"
   ]
  },
  {
   "cell_type": "markdown",
   "id": "d368d1b6",
   "metadata": {},
   "source": [
    "Combined Loan to value rate is a number between 0-100%"
   ]
  },
  {
   "cell_type": "code",
   "execution_count": 21,
   "id": "a444f341",
   "metadata": {},
   "outputs": [],
   "source": [
    "data_clean(hmda_df, 'combined_loan_to_value_ratio', 100, 0)"
   ]
  },
  {
   "cell_type": "markdown",
   "id": "83df8829",
   "metadata": {},
   "source": [
    "Loan terms <6 months or >40 years appear to be outliers"
   ]
  },
  {
   "cell_type": "code",
   "execution_count": 22,
   "id": "78666b71",
   "metadata": {},
   "outputs": [],
   "source": [
    "data_clean(hmda_df, 'loan_term', 481, 6)"
   ]
  },
  {
   "cell_type": "markdown",
   "id": "9d007234",
   "metadata": {},
   "source": [
    "According to Forbes (https://www.forbes.com/sites/emmareynolds/2022/01/27/the-one-in-la-could-become-the-most-expensive-home-ever-sold-in-the-us-at-295-million/?sh=54aa0e7217d6) the most expensive home in the US was listed for $295M dollars, therefore we'll consider this as the threshold for outliers.\n"
   ]
  },
  {
   "cell_type": "code",
   "execution_count": 23,
   "id": "4039b572",
   "metadata": {},
   "outputs": [],
   "source": [
    "data_clean(hmda_df, 'property_value', 296e+8, 0)\n",
    "\n"
   ]
  },
  {
   "cell_type": "markdown",
   "id": "a6810114",
   "metadata": {},
   "source": [
    "negative income is considered as an outlier"
   ]
  },
  {
   "cell_type": "code",
   "execution_count": 24,
   "id": "e8b1a87f",
   "metadata": {},
   "outputs": [],
   "source": [
    "data_clean(hmda_df, 'property_value', 10e+6, 0)"
   ]
  },
  {
   "cell_type": "markdown",
   "id": "7dd195e8",
   "metadata": {},
   "source": [
    "Getting the final view on NA values"
   ]
  },
  {
   "cell_type": "code",
   "execution_count": 25,
   "id": "29d8754b",
   "metadata": {},
   "outputs": [],
   "source": [
    "amv=hmda_df.groupby(by='loan_outcome', as_index=False).count().T #.melt(id_vars='loan_outcome')\n"
   ]
  },
  {
   "cell_type": "code",
   "execution_count": 26,
   "id": "410c6647",
   "metadata": {},
   "outputs": [
    {
     "data": {
      "text/plain": [
       "<matplotlib.legend.Legend at 0x1e4206a80d0>"
      ]
     },
     "execution_count": 26,
     "metadata": {},
     "output_type": "execute_result"
    },
    {
     "data": {
      "text/plain": [
       "<Figure size 500x300 with 0 Axes>"
      ]
     },
     "metadata": {},
     "output_type": "display_data"
    },
    {
     "data": {
      "image/png": "[encoded data removed]",
      "text/plain": [
       "<Figure size 640x480 with 1 Axes>"
      ]
     },
     "metadata": {},
     "output_type": "display_data"
    }
   ],
   "source": [
    "plt.figure(figsize=(5,3))\n",
    "amv.drop('loan_outcome').plot(kind='bar', stacked=True, color=['green', 'blue'])\n",
    "# Add Title and Labels\n",
    "plt.title('Count of outcome per Feature')\n",
    "plt.xlabel('Features')\n",
    "plt.ylabel('Count')\n",
    "plt.legend(loc='right')\n"
   ]
  },
  {
   "cell_type": "markdown",
   "id": "49568b72",
   "metadata": {},
   "source": [
    "### Dealing with NA values\n",
    "\n",
    "There are many distinct ways of dealing with NA values.\n",
    "\n",
    "For one, we could have used MICE (Multivariate Imputation) Method https://www.jstatsoft.org/article/view/v045i03 Or we could've used Fast KNN https://impyute.readthedocs.io/en/master/_modules/impyute/imputation/cs/fast_knn.html\n",
    "\n",
    "Both were tested and given the size of the dataset, MICE didn't converge and Fast KNN was taking too long to process.\n",
    "\n",
    "Finally, since the dataset has millions of lines, we decided that dropping these lines were not detrimental to the final results"
   ]
  },
  {
   "cell_type": "code",
   "execution_count": 27,
   "id": "5070b8c6",
   "metadata": {},
   "outputs": [],
   "source": [
    "def mice_na_fill(df):\n",
    "\n",
    "  imputed_training=mice(df.to_numpy(), vis = \"monotone\", meth = \"pmm\")\n",
    "  changed_df= pd.DataFrame(data=imputed_training,columns=df.columns)\n",
    "  return changed_df"
   ]
  },
  {
   "cell_type": "code",
   "execution_count": 28,
   "id": "a5187a85",
   "metadata": {},
   "outputs": [],
   "source": [
    "def fastknn_na_fill(df):\n",
    "  sys.setrecursionlimit(100000)\n",
    "  imputed_training=fast_knn(df.to_numpy(), k=10)\n",
    "  changed_df= pd.DataFrame(data=imputed_training,columns=df.columns)\n",
    "  return changed_df"
   ]
  },
  {
   "cell_type": "code",
   "execution_count": 29,
   "id": "c3dee72f",
   "metadata": {},
   "outputs": [],
   "source": [
    "################\n",
    "## Not in use ##\n",
    "################\n",
    "#X_train = fastknn_na_fill(X_train)\n",
    "\n",
    "\n",
    "#X_test = X_test.reset_index().dropna()\n",
    "#X_test.shape\n",
    "#y_test = y_test.loc[y_test.index.isin(X_test['index'])]\n",
    "\n",
    "#X_test.drop('index',axis=1, inplace=True) #dropping the added index\n",
    "#y_test.shape\n",
    "#y_test.reset_index(drop=True, inplace=True)"
   ]
  },
  {
   "cell_type": "code",
   "execution_count": 30,
   "id": "3ecfb0e2",
   "metadata": {},
   "outputs": [],
   "source": [
    "################\n",
    "## Not in use ##\n",
    "################\n",
    "\n",
    "  #sys.setrecursionlimit(100000)\n",
    "  #X_test=fast_knn(X_test, k=10)\n",
    "  \n",
    "  #y_train = pd.Series(y_train.to_numpy(), name=y_train.name) #resetting the index for the y_train"
   ]
  },
  {
   "cell_type": "code",
   "execution_count": 31,
   "id": "bea4f892",
   "metadata": {},
   "outputs": [],
   "source": [
    "#removing the rows containing missing neighbors\n",
    "hmda_df.dropna(inplace=True)"
   ]
  },
  {
   "cell_type": "markdown",
   "id": "b81a062d",
   "metadata": {},
   "source": [
    "### Finding Data correlation and Multicollinearity"
   ]
  },
  {
   "cell_type": "code",
   "execution_count": 32,
   "id": "76e977d2",
   "metadata": {},
   "outputs": [],
   "source": [
    "df_corr = hmda_df.copy() # this is used to be able to correlate categorical features\n",
    "for cc in ohe_cols:\n",
    "        df_corr[cc]= df_corr[cc].astype('bool')"
   ]
  },
  {
   "cell_type": "markdown",
   "id": "bd842b02",
   "metadata": {},
   "source": [
    "Since the Pearson correlation can evaluate only a linear relationship between two continuous variables, we decided Spearman’s rank correlation coefficient. Spearman is a nonparametric measure of rank correlation (statistical dependence between the rankings of two variables). It assesses how well the relationship between two variables can be described using a monotonic function. The Spearman correlation can evaluate a monotonic relationship between two variables — Continous or Ordinal and it is based on the ranked values for each variable rather than the raw data."
   ]
  },
  {
   "cell_type": "code",
   "execution_count": 33,
   "id": "802af7f7",
   "metadata": {},
   "outputs": [],
   "source": [
    "def correlationMatrix(pandas,target=False, method_type='spearman'):\n",
    "  if target==True:\n",
    "    correlation_matrix=pandas.corr(method=method_type)\n",
    "  else:\n",
    "    pandas = pandas.drop(\"loan_outcome\", axis=1)\n",
    "    correlation_matrix=pandas.corr(method=method_type)\n",
    "  return correlation_matrix\n",
    "\n",
    "\n",
    "def heatMap(corr_matrix,target=False):\n",
    "  \n",
    "  if target==True:\n",
    "    plt.figure(figsize=(8, 6))\n",
    "    heat = sns.heatmap(corr_matrix[['target']].sort_values(by='target', ascending=False), vmin=-1, vmax=1, annot=True)\n",
    "    \n",
    "  else:\n",
    "    plt.figure(figsize=(20, 12))\n",
    "    heat = sns.heatmap(corr_matrix, vmin=-1, vmax=1,center=0,cmap=sns.diverging_palette(20, 220, n=8),square=True)\n",
    "  heat.set_title('Correlation Heatmap', fontdict={'fontsize':15}, pad=12)\n",
    "  heat.set_xticklabels(heat.get_xticklabels(), rotation=90,\n",
    "                       fontsize=8, horizontalalignment='right')\n",
    "  heat.set_yticklabels(heat.get_yticklabels(),rotation=0,fontsize=8)"
   ]
  },
  {
   "cell_type": "code",
   "execution_count": 34,
   "id": "c66865dc",
   "metadata": {},
   "outputs": [],
   "source": [
    "#CM=correlationMatrix(df_corr,False)"
   ]
  },
  {
   "cell_type": "code",
   "execution_count": 35,
   "id": "a1e083a1",
   "metadata": {},
   "outputs": [],
   "source": [
    "#plotting the heatmap\n",
    "#heatMap(CM)"
   ]
  },
  {
   "cell_type": "code",
   "execution_count": 36,
   "id": "ba49a3af",
   "metadata": {},
   "outputs": [],
   "source": [
    "from sklearn.linear_model import LinearRegression\n",
    "def calculate_vif(df, features):    \n",
    "    gvif, vif, tolerance = {}, {}, {}\n",
    "    # all the features that you want to examine\n",
    "    for feature in features:\n",
    "        # extract all the other features you will regress against\n",
    "        X = [f for f in features if f != feature]        \n",
    "        X, y = df[X], df[feature]\n",
    "        # extract r-squared from the fit\n",
    "        r2 = LinearRegression().fit(X, y).score(X, y)                \n",
    "        \n",
    "        # calculate tolerance\n",
    "        tolerance[feature] = 1 - r2\n",
    "        # calculate VIF\n",
    "        vif[feature] = 1/(tolerance[feature])\n",
    "        gvif[feature] = sqrt(vif[feature])\n",
    "    # return VIF DataFrame\n",
    "    return pd.DataFrame({'GVIF': gvif, 'VIF': vif, 'Tolerance': tolerance})"
   ]
  },
  {
   "cell_type": "markdown",
   "id": "caf08972",
   "metadata": {},
   "source": [
    "Investigating Multicollinearity with method known as GVIF and VIF — General Variance Inflation Factor."
   ]
  },
  {
   "cell_type": "code",
   "execution_count": 37,
   "id": "bec90b5b",
   "metadata": {},
   "outputs": [
    {
     "data": {
      "text/html": [
       "<div>\n",
       "<style scoped>\n",
       "    .dataframe tbody tr th:only-of-type {\n",
       "        vertical-align: middle;\n",
       "    }\n",
       "\n",
       "    .dataframe tbody tr th {\n",
       "        vertical-align: top;\n",
       "    }\n",
       "\n",
       "    .dataframe thead th {\n",
       "        text-align: right;\n",
       "    }\n",
       "</style>\n",
       "<table border=\"1\" class=\"dataframe\">\n",
       "  <thead>\n",
       "    <tr style=\"text-align: right;\">\n",
       "      <th></th>\n",
       "      <th>GVIF</th>\n",
       "      <th>VIF</th>\n",
       "      <th>Tolerance</th>\n",
       "    </tr>\n",
       "  </thead>\n",
       "  <tbody>\n",
       "    <tr>\n",
       "      <th>DU_aus</th>\n",
       "      <td>56.042570</td>\n",
       "      <td>3140.769646</td>\n",
       "      <td>0.000318</td>\n",
       "    </tr>\n",
       "    <tr>\n",
       "      <th>LP_aus</th>\n",
       "      <td>49.932434</td>\n",
       "      <td>2493.247993</td>\n",
       "      <td>0.000401</td>\n",
       "    </tr>\n",
       "    <tr>\n",
       "      <th>other_aus</th>\n",
       "      <td>41.236016</td>\n",
       "      <td>1700.409005</td>\n",
       "      <td>0.000588</td>\n",
       "    </tr>\n",
       "    <tr>\n",
       "      <th>loan_amount</th>\n",
       "      <td>3.802359</td>\n",
       "      <td>14.457931</td>\n",
       "      <td>0.069166</td>\n",
       "    </tr>\n",
       "    <tr>\n",
       "      <th>property_value</th>\n",
       "      <td>3.685160</td>\n",
       "      <td>13.580406</td>\n",
       "      <td>0.073636</td>\n",
       "    </tr>\n",
       "    <tr>\n",
       "      <th>tech_open_aus</th>\n",
       "      <td>3.459428</td>\n",
       "      <td>11.967645</td>\n",
       "      <td>0.083559</td>\n",
       "    </tr>\n",
       "    <tr>\n",
       "      <th>tract_owner_occupied_units</th>\n",
       "      <td>3.408583</td>\n",
       "      <td>11.618437</td>\n",
       "      <td>0.086070</td>\n",
       "    </tr>\n",
       "    <tr>\n",
       "      <th>tract_population</th>\n",
       "      <td>2.703960</td>\n",
       "      <td>7.311397</td>\n",
       "      <td>0.136773</td>\n",
       "    </tr>\n",
       "    <tr>\n",
       "      <th>tract_one_to_four_family_homes</th>\n",
       "      <td>2.559705</td>\n",
       "      <td>6.552090</td>\n",
       "      <td>0.152623</td>\n",
       "    </tr>\n",
       "    <tr>\n",
       "      <th>coapp_female</th>\n",
       "      <td>1.759273</td>\n",
       "      <td>3.095040</td>\n",
       "      <td>0.323098</td>\n",
       "    </tr>\n",
       "    <tr>\n",
       "      <th>coapp_white</th>\n",
       "      <td>1.741852</td>\n",
       "      <td>3.034050</td>\n",
       "      <td>0.329592</td>\n",
       "    </tr>\n",
       "    <tr>\n",
       "      <th>other_credit_check</th>\n",
       "      <td>1.492688</td>\n",
       "      <td>2.228119</td>\n",
       "      <td>0.448809</td>\n",
       "    </tr>\n",
       "    <tr>\n",
       "      <th>Nonconforming</th>\n",
       "      <td>1.473813</td>\n",
       "      <td>2.172126</td>\n",
       "      <td>0.460378</td>\n",
       "    </tr>\n",
       "    <tr>\n",
       "      <th>FICO_credit_check</th>\n",
       "      <td>1.416595</td>\n",
       "      <td>2.006741</td>\n",
       "      <td>0.498320</td>\n",
       "    </tr>\n",
       "    <tr>\n",
       "      <th>gov_sponsored_loan_pchase</th>\n",
       "      <td>1.394901</td>\n",
       "      <td>1.945750</td>\n",
       "      <td>0.513941</td>\n",
       "    </tr>\n",
       "  </tbody>\n",
       "</table>\n",
       "</div>"
      ],
      "text/plain": [
       "                                     GVIF          VIF  Tolerance\n",
       "DU_aus                          56.042570  3140.769646   0.000318\n",
       "LP_aus                          49.932434  2493.247993   0.000401\n",
       "other_aus                       41.236016  1700.409005   0.000588\n",
       "loan_amount                      3.802359    14.457931   0.069166\n",
       "property_value                   3.685160    13.580406   0.073636\n",
       "tech_open_aus                    3.459428    11.967645   0.083559\n",
       "tract_owner_occupied_units       3.408583    11.618437   0.086070\n",
       "tract_population                 2.703960     7.311397   0.136773\n",
       "tract_one_to_four_family_homes   2.559705     6.552090   0.152623\n",
       "coapp_female                     1.759273     3.095040   0.323098\n",
       "coapp_white                      1.741852     3.034050   0.329592\n",
       "other_credit_check               1.492688     2.228119   0.448809\n",
       "Nonconforming                    1.473813     2.172126   0.460378\n",
       "FICO_credit_check                1.416595     2.006741   0.498320\n",
       "gov_sponsored_loan_pchase        1.394901     1.945750   0.513941"
      ]
     },
     "execution_count": 37,
     "metadata": {},
     "output_type": "execute_result"
    }
   ],
   "source": [
    "calculate_vif(hmda_df, hmda_df.drop(['loan_outcome'], axis=1).columns).sort_values(by='VIF', ascending=False).head(15)\n"
   ]
  },
  {
   "cell_type": "markdown",
   "id": "900094e0",
   "metadata": {},
   "source": [
    "Removing some highly collinear variables"
   ]
  },
  {
   "cell_type": "code",
   "execution_count": 38,
   "id": "73f8dcc9",
   "metadata": {},
   "outputs": [
    {
     "data": {
      "text/html": [
       "<div>\n",
       "<style scoped>\n",
       "    .dataframe tbody tr th:only-of-type {\n",
       "        vertical-align: middle;\n",
       "    }\n",
       "\n",
       "    .dataframe tbody tr th {\n",
       "        vertical-align: top;\n",
       "    }\n",
       "\n",
       "    .dataframe thead th {\n",
       "        text-align: right;\n",
       "    }\n",
       "</style>\n",
       "<table border=\"1\" class=\"dataframe\">\n",
       "  <thead>\n",
       "    <tr style=\"text-align: right;\">\n",
       "      <th></th>\n",
       "      <th>GVIF</th>\n",
       "      <th>VIF</th>\n",
       "      <th>Tolerance</th>\n",
       "    </tr>\n",
       "  </thead>\n",
       "  <tbody>\n",
       "    <tr>\n",
       "      <th>loan_amount</th>\n",
       "      <td>3.801292</td>\n",
       "      <td>14.449818</td>\n",
       "      <td>0.069205</td>\n",
       "    </tr>\n",
       "    <tr>\n",
       "      <th>property_value</th>\n",
       "      <td>3.684404</td>\n",
       "      <td>13.574830</td>\n",
       "      <td>0.073666</td>\n",
       "    </tr>\n",
       "    <tr>\n",
       "      <th>tract_population</th>\n",
       "      <td>2.096590</td>\n",
       "      <td>4.395688</td>\n",
       "      <td>0.227496</td>\n",
       "    </tr>\n",
       "    <tr>\n",
       "      <th>tract_one_to_four_family_homes</th>\n",
       "      <td>2.038270</td>\n",
       "      <td>4.154546</td>\n",
       "      <td>0.240700</td>\n",
       "    </tr>\n",
       "    <tr>\n",
       "      <th>DU_aus</th>\n",
       "      <td>1.816718</td>\n",
       "      <td>3.300464</td>\n",
       "      <td>0.302988</td>\n",
       "    </tr>\n",
       "    <tr>\n",
       "      <th>LP_aus</th>\n",
       "      <td>1.775387</td>\n",
       "      <td>3.152001</td>\n",
       "      <td>0.317259</td>\n",
       "    </tr>\n",
       "    <tr>\n",
       "      <th>coapp_female</th>\n",
       "      <td>1.759205</td>\n",
       "      <td>3.094802</td>\n",
       "      <td>0.323122</td>\n",
       "    </tr>\n",
       "    <tr>\n",
       "      <th>coapp_white</th>\n",
       "      <td>1.741772</td>\n",
       "      <td>3.033769</td>\n",
       "      <td>0.329623</td>\n",
       "    </tr>\n",
       "    <tr>\n",
       "      <th>other_credit_check</th>\n",
       "      <td>1.492651</td>\n",
       "      <td>2.228008</td>\n",
       "      <td>0.448831</td>\n",
       "    </tr>\n",
       "    <tr>\n",
       "      <th>Nonconforming</th>\n",
       "      <td>1.473751</td>\n",
       "      <td>2.171943</td>\n",
       "      <td>0.460417</td>\n",
       "    </tr>\n",
       "    <tr>\n",
       "      <th>FICO_credit_check</th>\n",
       "      <td>1.416542</td>\n",
       "      <td>2.006592</td>\n",
       "      <td>0.498357</td>\n",
       "    </tr>\n",
       "    <tr>\n",
       "      <th>gov_sponsored_loan_pchase</th>\n",
       "      <td>1.394788</td>\n",
       "      <td>1.945434</td>\n",
       "      <td>0.514024</td>\n",
       "    </tr>\n",
       "    <tr>\n",
       "      <th>subord_lien_loan_sec</th>\n",
       "      <td>1.386742</td>\n",
       "      <td>1.923054</td>\n",
       "      <td>0.520006</td>\n",
       "    </tr>\n",
       "    <tr>\n",
       "      <th>coapp_vantage_credit_check</th>\n",
       "      <td>1.323314</td>\n",
       "      <td>1.751161</td>\n",
       "      <td>0.571050</td>\n",
       "    </tr>\n",
       "    <tr>\n",
       "      <th>coapp_other_credit_check</th>\n",
       "      <td>1.322249</td>\n",
       "      <td>1.748341</td>\n",
       "      <td>0.571971</td>\n",
       "    </tr>\n",
       "  </tbody>\n",
       "</table>\n",
       "</div>"
      ],
      "text/plain": [
       "                                    GVIF        VIF  Tolerance\n",
       "loan_amount                     3.801292  14.449818   0.069205\n",
       "property_value                  3.684404  13.574830   0.073666\n",
       "tract_population                2.096590   4.395688   0.227496\n",
       "tract_one_to_four_family_homes  2.038270   4.154546   0.240700\n",
       "DU_aus                          1.816718   3.300464   0.302988\n",
       "LP_aus                          1.775387   3.152001   0.317259\n",
       "coapp_female                    1.759205   3.094802   0.323122\n",
       "coapp_white                     1.741772   3.033769   0.329623\n",
       "other_credit_check              1.492651   2.228008   0.448831\n",
       "Nonconforming                   1.473751   2.171943   0.460417\n",
       "FICO_credit_check               1.416542   2.006592   0.498357\n",
       "gov_sponsored_loan_pchase       1.394788   1.945434   0.514024\n",
       "subord_lien_loan_sec            1.386742   1.923054   0.520006\n",
       "coapp_vantage_credit_check      1.323314   1.751161   0.571050\n",
       "coapp_other_credit_check        1.322249   1.748341   0.571971"
      ]
     },
     "execution_count": 38,
     "metadata": {},
     "output_type": "execute_result"
    }
   ],
   "source": [
    "calculate_vif(hmda_df, hmda_df.drop(['loan_outcome', 'other_aus', 'tract_owner_occupied_units'], axis=1).columns).sort_values(by='VIF', ascending=False).head(15)\n"
   ]
  },
  {
   "cell_type": "code",
   "execution_count": 39,
   "id": "1a332720",
   "metadata": {},
   "outputs": [],
   "source": [
    "#removing Highly collinear columns\n",
    "hmda_df.drop([ 'other_aus', 'tract_owner_occupied_units'], axis=1, inplace=True)"
   ]
  },
  {
   "cell_type": "markdown",
   "id": "af624e64",
   "metadata": {},
   "source": [
    "Verifying the correlation of every variable against the target Loan outcome"
   ]
  },
  {
   "cell_type": "code",
   "execution_count": 40,
   "id": "4953972d",
   "metadata": {},
   "outputs": [
    {
     "data": {
      "text/plain": [
       "gov_sponsored_loan_pchase           -0.269852\n",
       "debt_to_income_ratio                -0.227681\n",
       "banks_mtg_loan_pchase               -0.133026\n",
       "DU_aus                              -0.089570\n",
       "LP_aus                              -0.073082\n",
       "othr_loan_pchase                    -0.062794\n",
       "coapp_white                         -0.061130\n",
       "coapp_female                        -0.038712\n",
       "tract_minority_population_percent   -0.036524\n",
       "FICO_credit_check                   -0.035913\n",
       "coapp_FICO_credit_check             -0.035853\n",
       "combined_loan_to_value_ratio        -0.013142\n",
       "income                              -0.002163\n",
       "coapp_other_credit_check            -0.001128\n",
       "coapp_asian                         -0.000686\n",
       "coapp_pac_islander                   0.001617\n",
       "coapp_vantage_credit_check           0.002021\n",
       "coapp_native                         0.002911\n",
       "pac_islander                         0.003735\n",
       "asian                                0.006006\n",
       "female                               0.009237\n",
       "Nonconforming                        0.011090\n",
       "native                               0.011919\n",
       "Undetermined                         0.013238\n",
       "coapp_latino                         0.014781\n",
       "tech_open_aus                        0.015266\n",
       "property_value                       0.019164\n",
       "tract_median_age_of_housing_units    0.020252\n",
       "coapp_black                          0.023210\n",
       "tract_one_to_four_family_homes       0.030629\n",
       "loan_amount                          0.031813\n",
       "tract_population                     0.031864\n",
       "other_credit_check                   0.037081\n",
       "latino                               0.046110\n",
       "loan_term                            0.051356\n",
       "subord_lien_loan_sec                 0.066971\n",
       "tract_to_msa_income_percentage       0.067860\n",
       "black                                0.070248\n",
       "vantage_credit_check                 0.085101\n",
       "ffiec_msa_md_median_family_income    0.098023\n",
       "open_end_line_credit                 0.116278\n",
       "dtype: float64"
      ]
     },
     "execution_count": 40,
     "metadata": {},
     "output_type": "execute_result"
    }
   ],
   "source": [
    "hmda_df.drop(\"loan_outcome\", axis=1).apply(lambda x: x.corr(hmda_df.loan_outcome)).sort_values(ascending=True)"
   ]
  },
  {
   "cell_type": "markdown",
   "id": "3d209722",
   "metadata": {},
   "source": [
    "there is a high correlation between not_high_cost_mtgage, gov_sponsored_loan_pchase and the loan_outcome"
   ]
  },
  {
   "cell_type": "markdown",
   "id": "10408a35",
   "metadata": {},
   "source": [
    "### Initiating model testing with the split of Train and test datasets"
   ]
  },
  {
   "cell_type": "code",
   "execution_count": 41,
   "id": "281578e4",
   "metadata": {},
   "outputs": [],
   "source": [
    "\n",
    "X=hmda_df.drop('loan_outcome', axis=1)\n",
    "y=hmda_df['loan_outcome']\n",
    "\n",
    "\n",
    "X_train, X_test, y_train, y_test = train_test_split(X, y, test_size = 0.20, random_state=1, stratify=y)\n"
   ]
  },
  {
   "cell_type": "markdown",
   "id": "f8533f52",
   "metadata": {},
   "source": [
    "### Anomaly value investigation\n",
    "\n",
    "(Not in use)\n",
    "Besides outliers, we're going to investigate the dataset for Abnormal values"
   ]
  },
  {
   "cell_type": "code",
   "execution_count": 42,
   "id": "7499fd30",
   "metadata": {},
   "outputs": [
    {
     "data": {
      "text/plain": [
       "' lof_outlier = LocalOutlierFactor(n_neighbors=20, novelty=False)\\n\\nlof_outlier.fit_predict(X_train) ###############################note: might need to Normalize the data!!!!\\n\\nprediction_outlier = lof_outlier.negative_outlier_factor_\\n\\nprediction_outlier '"
      ]
     },
     "execution_count": 42,
     "metadata": {},
     "output_type": "execute_result"
    }
   ],
   "source": [
    "\"\"\" lof_outlier = LocalOutlierFactor(n_neighbors=20, novelty=False)\n",
    "\n",
    "lof_outlier.fit_predict(X_train) ###############################note: might need to Normalize the data!!!!\n",
    "\n",
    "prediction_outlier = lof_outlier.negative_outlier_factor_\n",
    "\n",
    "prediction_outlier \"\"\"\n"
   ]
  },
  {
   "cell_type": "code",
   "execution_count": 43,
   "id": "ac93fd3c",
   "metadata": {},
   "outputs": [],
   "source": [
    "#prediction_outlier = lof_outlier.negative_outlier_factor_"
   ]
  },
  {
   "cell_type": "code",
   "execution_count": 44,
   "id": "88988c34",
   "metadata": {},
   "outputs": [],
   "source": [
    "#thresh = quantile(prediction_outlier,.01) #Eliminating the 1% abnormal numbers\n",
    "#print(thresh)"
   ]
  },
  {
   "cell_type": "code",
   "execution_count": 45,
   "id": "6d729966",
   "metadata": {},
   "outputs": [],
   "source": [
    "#index = where(prediction_outlier<=thresh)\n",
    "#index = pd.DataFrame(index)\n",
    "#index"
   ]
  },
  {
   "cell_type": "code",
   "execution_count": 46,
   "id": "bb92c326",
   "metadata": {},
   "outputs": [],
   "source": [
    "#print(X_train.loc[~X_train.index.isin(index)].shape)\n",
    "#print(y_train.loc[~y_train.index.isin(index)].shape)"
   ]
  },
  {
   "cell_type": "code",
   "execution_count": 47,
   "id": "51c7a0fd",
   "metadata": {},
   "outputs": [],
   "source": [
    "#X_train = X_train.loc[~X_train.index.isin(index)]\n",
    "#y_train = y_train.loc[~y_train.index.isin(index)]"
   ]
  },
  {
   "cell_type": "markdown",
   "id": "73ae2574",
   "metadata": {},
   "source": [
    "### Handling Data inbalance"
   ]
  },
  {
   "cell_type": "code",
   "execution_count": 48,
   "id": "deacd9a2",
   "metadata": {},
   "outputs": [
    {
     "name": "stdout",
     "output_type": "stream",
     "text": [
      "Approved Loans: 2473435\n",
      "Denied Loans: 197662\n",
      "Proportion: 12.51 : 1\n"
     ]
    },
    {
     "data": {
      "image/png": "[encoded data removed]",
      "text/plain": [
       "<Figure size 640x480 with 1 Axes>"
      ]
     },
     "metadata": {},
     "output_type": "display_data"
    }
   ],
   "source": [
    "target_count = y_train.value_counts()\n",
    "print('Approved Loans:', target_count[1])\n",
    "print('Denied Loans:', target_count[0])\n",
    "print('Proportion:', round(target_count[1] / target_count[0], 2), ': 1')\n",
    "\n",
    "target_count.plot(kind='bar', title='Count (target)');"
   ]
  },
  {
   "cell_type": "markdown",
   "id": "711673fb",
   "metadata": {},
   "source": [
    "Undersampling Majority Class (approved loans)"
   ]
  },
  {
   "cell_type": "code",
   "execution_count": 49,
   "id": "da948eba",
   "metadata": {},
   "outputs": [],
   "source": [
    "\n",
    "\n",
    "def sample_together(n, X, y):\n",
    "    rows = random.sample(np.arange(0,len(X.index)).tolist(),n)\n",
    "    return X.iloc[rows,], y.iloc[rows,]\n",
    "\n",
    "def undersample_majority(X, y, under = 0):\n",
    "    y_min = y[y == under]\n",
    "    y_max = y[y != under]\n",
    "    X_min = X.filter(y_min.index,axis = 0)\n",
    "    X_max = X.filter(y_max.index,axis = 0)\n",
    "\n",
    "    X_under, y_under = sample_together(len(y_min.index), X_max, y_max)\n",
    "    \n",
    "    X = pd.concat([X_under, X_min])\n",
    "    y = pd.concat([y_under, y_min])\n",
    "    return X, y\n",
    "\n",
    "\n",
    "\n",
    "def resample(X, y, fraction=0.1):\n",
    "    X = X.sample(frac=fraction)\n",
    "    \n",
    "    y = y.loc[y.index.isin(X.index)]\n",
    "    print(X.shape, y.shape)\n",
    "    return X, y\n",
    "\n",
    "#X_test = X_test.reset_index().dropna()\n",
    "#X_test.shape\n",
    "#y_test = y_test.loc[y_test.index.isin(X_test['index'])]\n",
    "\n",
    "#X_test.drop('index',axis=1, inplace=True) #dropping the added index\n",
    "#y_test.shape\n",
    "#y_test.reset_index(drop=True, inplace=True)\n"
   ]
  },
  {
   "cell_type": "code",
   "execution_count": 50,
   "id": "4cabd966",
   "metadata": {},
   "outputs": [],
   "source": [
    "#X_test = X_test.reset_index().dropna()\n",
    "#X_test.shape\n",
    "#y_test = y_test.loc[y_test.index.isin(X_test['index'])]\n",
    "\n",
    "#X_test.drop('index',axis=1, inplace=True) #dropping the added index\n",
    "#y_test.shape\n",
    "#y_test.reset_index(drop=True, inplace=True)"
   ]
  },
  {
   "cell_type": "code",
   "execution_count": 51,
   "id": "74c1ced3",
   "metadata": {},
   "outputs": [],
   "source": [
    "X_train_bal, y_train_bal = undersample_majority(X_train, y_train)\n",
    "X_test_bal, y_test_bal = undersample_majority(X_test, y_test)\n",
    "\n"
   ]
  },
  {
   "cell_type": "code",
   "execution_count": 52,
   "id": "fb6cbe07",
   "metadata": {},
   "outputs": [
    {
     "name": "stdout",
     "output_type": "stream",
     "text": [
      "1    197662\n",
      "0    197662\n",
      "Name: loan_outcome, dtype: int64\n",
      "1    49416\n",
      "0    49416\n",
      "Name: loan_outcome, dtype: int64\n"
     ]
    }
   ],
   "source": [
    "print(y_train_bal.value_counts())\n",
    "print(y_test_bal.value_counts())"
   ]
  },
  {
   "cell_type": "markdown",
   "id": "9a0962aa",
   "metadata": {},
   "source": [
    "SMOTENC (Not in use)"
   ]
  },
  {
   "cell_type": "code",
   "execution_count": 53,
   "id": "d6b70f40",
   "metadata": {},
   "outputs": [],
   "source": [
    "def DF_cat_list(df):\n",
    "    list = []\n",
    "    for i in range(0,len(df.dtypes)):\n",
    "        if df.dtypes[i] == \"category\":\n",
    "            list.append(i)\n",
    "    return list    \n",
    "\n",
    "def smote_resampling(X,y):\n",
    "    cat_feat_index = DF_cat_list(X)\n",
    "    smote = SMOTENC(categorical_features= cat_feat_index, random_state=1)\n",
    "    X_smote, y_smote = smote.fit_resample(X, y)\n",
    "    return X_smote, y_smote\n",
    "\n",
    "\n",
    "#CategoricalDtype(categories=[0.0, 1.0], ordered=False)"
   ]
  },
  {
   "cell_type": "code",
   "execution_count": 54,
   "id": "81f7af26",
   "metadata": {},
   "outputs": [],
   "source": [
    "#Not using SMOTE\n",
    "#X_sm, y_sm = smote_resampling(X_train,y_train)\n",
    "#X_sm_test, y_sm_test = smote_resampling(X_test,y_test)"
   ]
  },
  {
   "cell_type": "markdown",
   "id": "7e38c2a2",
   "metadata": {},
   "source": [
    "Standarizing features by removing the mean and stardarizing the variance"
   ]
  },
  {
   "cell_type": "code",
   "execution_count": 55,
   "id": "722de703",
   "metadata": {},
   "outputs": [],
   "source": [
    "def standarizer(a):\n",
    "\n",
    "  scaler = StandardScaler()\n",
    "  scaler=scaler.fit_transform(a)\n",
    "  return scaler\n",
    "\n",
    "def normalizer(a):\n",
    "\n",
    "  scaler = MinMaxScaler()\n",
    "  scaler=scaler.fit_transform(a)\n",
    "  return scaler"
   ]
  },
  {
   "cell_type": "code",
   "execution_count": 56,
   "id": "53c4be62",
   "metadata": {},
   "outputs": [],
   "source": [
    "continuous_cols = X_train.select_dtypes(exclude=['category']).columns\n",
    "categorical_cols = X_train.select_dtypes(include=['category']).columns"
   ]
  },
  {
   "cell_type": "code",
   "execution_count": 57,
   "id": "a7fd308a",
   "metadata": {},
   "outputs": [
    {
     "name": "stdout",
     "output_type": "stream",
     "text": [
      "Continuous feature columns are: Index(['loan_amount', 'combined_loan_to_value_ratio', 'loan_term',\n",
      "       'property_value', 'income', 'debt_to_income_ratio', 'tract_population',\n",
      "       'tract_minority_population_percent',\n",
      "       'ffiec_msa_md_median_family_income', 'tract_to_msa_income_percentage',\n",
      "       'tract_one_to_four_family_homes', 'tract_median_age_of_housing_units'],\n",
      "      dtype='object')\n",
      "Categorical feature columns are: Index(['Nonconforming', 'Undetermined', 'gov_sponsored_loan_pchase',\n",
      "       'banks_mtg_loan_pchase', 'othr_loan_pchase', 'coapp_white',\n",
      "       'coapp_black', 'coapp_latino', 'coapp_asian', 'coapp_native',\n",
      "       'coapp_pac_islander', 'coapp_female', 'subord_lien_loan_sec',\n",
      "       'open_end_line_credit', 'FICO_credit_check', 'vantage_credit_check',\n",
      "       'other_credit_check', 'coapp_FICO_credit_check',\n",
      "       'coapp_vantage_credit_check', 'coapp_other_credit_check', 'DU_aus',\n",
      "       'LP_aus', 'tech_open_aus', 'black', 'latino', 'asian', 'native',\n",
      "       'pac_islander', 'female'],\n",
      "      dtype='object')\n"
     ]
    }
   ],
   "source": [
    "print('Continuous feature columns are: ' + f'{continuous_cols}')\n",
    "print('Categorical feature columns are: ' + f'{categorical_cols}')\n"
   ]
  },
  {
   "cell_type": "markdown",
   "id": "316fa926",
   "metadata": {},
   "source": [
    "Applying the dataframeMapper to transform only the continuous columns in the Dataframe"
   ]
  },
  {
   "cell_type": "code",
   "execution_count": 58,
   "id": "28a56f52",
   "metadata": {},
   "outputs": [],
   "source": [
    "mapper = DataFrameMapper(\n",
    "    [([continuous_col], StandardScaler()) for continuous_col in continuous_cols] +\n",
    "    [([categorical_col], None) for categorical_col in categorical_cols]\n",
    "    ,df_out=True\n",
    "    )\n",
    "\n"
   ]
  },
  {
   "cell_type": "code",
   "execution_count": 59,
   "id": "a2ceeb5c",
   "metadata": {},
   "outputs": [],
   "source": [
    "X_train_std = mapper.fit_transform(X_train_bal)\n",
    "X_test_std = mapper.fit_transform(X_test_bal)\n"
   ]
  },
  {
   "cell_type": "code",
   "execution_count": 79,
   "id": "76f00e39",
   "metadata": {},
   "outputs": [
    {
     "data": {
      "text/plain": [
       "2964760    0.629357\n",
       "3699841   -0.065946\n",
       "3611392   -1.456553\n",
       "555015    -1.070274\n",
       "1316590    0.783869\n",
       "             ...   \n",
       "2521169   -0.452226\n",
       "428702     0.320333\n",
       "2453329    2.019964\n",
       "869322    -1.456553\n",
       "1220395   -1.070274\n",
       "Name: dti_std, Length: 98832, dtype: float64"
      ]
     },
     "execution_count": 79,
     "metadata": {},
     "output_type": "execute_result"
    }
   ],
   "source": [
    "X_test_std.rename(columns={'debt_to_income_ratio': 'dti_std'})['dti_std']\n"
   ]
  },
  {
   "cell_type": "code",
   "execution_count": 82,
   "id": "56098f28",
   "metadata": {},
   "outputs": [],
   "source": [
    "DTI = pd.concat([X_test_bal.rename(columns={'debt_to_income_ratio': 'dti'})['dti'],\n",
    "          X_test_std.rename(columns={'debt_to_income_ratio': 'dti_std'})['dti_std']], axis=1)\n"
   ]
  },
  {
   "cell_type": "code",
   "execution_count": 85,
   "id": "912926e1",
   "metadata": {},
   "outputs": [
    {
     "data": {
      "image/png": "[encoded data removed]",
      "text/plain": [
       "<Figure size 640x480 with 1 Axes>"
      ]
     },
     "metadata": {},
     "output_type": "display_data"
    }
   ],
   "source": [
    "plt.scatter(DTI['dti_std'], DTI['dti'])\n",
    "plt.title('DTI to standard DTI map')\n",
    "plt.xlabel('Standardized DTI')\n",
    "plt.ylabel('DTI')\n",
    "plt.show()\n"
   ]
  },
  {
   "cell_type": "code",
   "execution_count": 65,
   "id": "f1b11df6",
   "metadata": {},
   "outputs": [
    {
     "name": "stdout",
     "output_type": "stream",
     "text": [
      "(39532, 41) (39532,)\n",
      "1    19799\n",
      "0    19733\n",
      "Name: loan_outcome, dtype: int64\n"
     ]
    }
   ],
   "source": [
    "X_train_GS, y_train_GS = resample(X_train_std, y_train_bal, fraction=0.1)\n",
    "print(y_train_GS.value_counts())\n"
   ]
  },
  {
   "cell_type": "markdown",
   "id": "ed549e3a",
   "metadata": {},
   "source": [
    "### Model Parameter Optimization\n",
    "\n",
    "Since we'll be using some blackbox models, we'll attempt to optimize their parameters"
   ]
  },
  {
   "cell_type": "code",
   "execution_count": 61,
   "id": "b696dbc3",
   "metadata": {},
   "outputs": [],
   "source": [
    "model_params = {\n",
    "    'MLP': {\n",
    "        'model': MLPClassifier(),\n",
    "        'params' : {\n",
    "            'hidden_layer_sizes' : [(1500,3)],\n",
    "            'alpha': np.geomspace(1e-6,1e-3, 15, endpoint = True),\n",
    "            'learning_rate_init': np.geomspace(1e-5,1e-3, 15, endpoint = True),\n",
    "            'max_iter':np.linspace(500,1500,num=5, dtype=int),\n",
    "            'verbose':[False]\n",
    "            }\n",
    "        },\n",
    "    'RandForrest': {\n",
    "        'model': RandomForestClassifier(),\n",
    "        'params' : {\n",
    "            'bootstrap': [True],\n",
    "            \"n_estimators\": np.linspace(100,1000,num=10, dtype=int),\n",
    "            \"max_depth\": [80,90,100,None],\n",
    "            #\"criterion\":[\"gini\"],\n",
    "            \"min_samples_split\": [2,4,8],\n",
    "            \"min_samples_leaf\": [1,2,3,4,5]\n",
    "            #\"class_weight\":[\"balanced\",\"balanced_subsample\",None]   \n",
    "            }\n",
    "        },\n",
    "    \n",
    "    'svm': {\n",
    "        'model': svm.SVC(gamma='auto'),\n",
    "        'params' : {\n",
    "            'C': [1,10,20],\n",
    "            'kernel': ['rbf','linear']\n",
    "        }  \n",
    "    }\n",
    "}"
   ]
  },
  {
   "cell_type": "code",
   "execution_count": 67,
   "id": "5d21b5ab",
   "metadata": {},
   "outputs": [
    {
     "name": "stderr",
     "output_type": "stream",
     "text": [
      "C:\\Users\\danie\\AppData\\Local\\Packages\\PythonSoftwareFoundation.Python.3.10_qbz5n2kfra8p0\\LocalCache\\local-packages\\Python310\\site-packages\\sklearn\\neural_network\\_multilayer_perceptron.py:702: ConvergenceWarning: Stochastic Optimizer: Maximum iterations (1250) reached and the optimization hasn't converged yet.\n",
      "  warnings.warn(\n",
      "C:\\Users\\danie\\AppData\\Local\\Packages\\PythonSoftwareFoundation.Python.3.10_qbz5n2kfra8p0\\LocalCache\\local-packages\\Python310\\site-packages\\sklearn\\neural_network\\_multilayer_perceptron.py:702: ConvergenceWarning: Stochastic Optimizer: Maximum iterations (1250) reached and the optimization hasn't converged yet.\n",
      "  warnings.warn(\n",
      "C:\\Users\\danie\\AppData\\Local\\Packages\\PythonSoftwareFoundation.Python.3.10_qbz5n2kfra8p0\\LocalCache\\local-packages\\Python310\\site-packages\\sklearn\\neural_network\\_multilayer_perceptron.py:702: ConvergenceWarning: Stochastic Optimizer: Maximum iterations (1250) reached and the optimization hasn't converged yet.\n",
      "  warnings.warn(\n",
      "C:\\Users\\danie\\AppData\\Local\\Packages\\PythonSoftwareFoundation.Python.3.10_qbz5n2kfra8p0\\LocalCache\\local-packages\\Python310\\site-packages\\sklearn\\neural_network\\_multilayer_perceptron.py:702: ConvergenceWarning: Stochastic Optimizer: Maximum iterations (1250) reached and the optimization hasn't converged yet.\n",
      "  warnings.warn(\n",
      "C:\\Users\\danie\\AppData\\Local\\Packages\\PythonSoftwareFoundation.Python.3.10_qbz5n2kfra8p0\\LocalCache\\local-packages\\Python310\\site-packages\\sklearn\\neural_network\\_multilayer_perceptron.py:702: ConvergenceWarning: Stochastic Optimizer: Maximum iterations (1000) reached and the optimization hasn't converged yet.\n",
      "  warnings.warn(\n",
      "C:\\Users\\danie\\AppData\\Local\\Packages\\PythonSoftwareFoundation.Python.3.10_qbz5n2kfra8p0\\LocalCache\\local-packages\\Python310\\site-packages\\sklearn\\neural_network\\_multilayer_perceptron.py:702: ConvergenceWarning: Stochastic Optimizer: Maximum iterations (1000) reached and the optimization hasn't converged yet.\n",
      "  warnings.warn(\n",
      "C:\\Users\\danie\\AppData\\Local\\Packages\\PythonSoftwareFoundation.Python.3.10_qbz5n2kfra8p0\\LocalCache\\local-packages\\Python310\\site-packages\\sklearn\\neural_network\\_multilayer_perceptron.py:702: ConvergenceWarning: Stochastic Optimizer: Maximum iterations (1000) reached and the optimization hasn't converged yet.\n",
      "  warnings.warn(\n",
      "C:\\Users\\danie\\AppData\\Local\\Packages\\PythonSoftwareFoundation.Python.3.10_qbz5n2kfra8p0\\LocalCache\\local-packages\\Python310\\site-packages\\sklearn\\neural_network\\_multilayer_perceptron.py:702: ConvergenceWarning: Stochastic Optimizer: Maximum iterations (1000) reached and the optimization hasn't converged yet.\n",
      "  warnings.warn(\n",
      "C:\\Users\\danie\\AppData\\Local\\Packages\\PythonSoftwareFoundation.Python.3.10_qbz5n2kfra8p0\\LocalCache\\local-packages\\Python310\\site-packages\\sklearn\\neural_network\\_multilayer_perceptron.py:702: ConvergenceWarning: Stochastic Optimizer: Maximum iterations (1500) reached and the optimization hasn't converged yet.\n",
      "  warnings.warn(\n",
      "C:\\Users\\danie\\AppData\\Local\\Packages\\PythonSoftwareFoundation.Python.3.10_qbz5n2kfra8p0\\LocalCache\\local-packages\\Python310\\site-packages\\sklearn\\neural_network\\_multilayer_perceptron.py:702: ConvergenceWarning: Stochastic Optimizer: Maximum iterations (1500) reached and the optimization hasn't converged yet.\n",
      "  warnings.warn(\n",
      "C:\\Users\\danie\\AppData\\Local\\Packages\\PythonSoftwareFoundation.Python.3.10_qbz5n2kfra8p0\\LocalCache\\local-packages\\Python310\\site-packages\\sklearn\\neural_network\\_multilayer_perceptron.py:702: ConvergenceWarning: Stochastic Optimizer: Maximum iterations (1500) reached and the optimization hasn't converged yet.\n",
      "  warnings.warn(\n",
      "C:\\Users\\danie\\AppData\\Local\\Packages\\PythonSoftwareFoundation.Python.3.10_qbz5n2kfra8p0\\LocalCache\\local-packages\\Python310\\site-packages\\sklearn\\neural_network\\_multilayer_perceptron.py:702: ConvergenceWarning: Stochastic Optimizer: Maximum iterations (1500) reached and the optimization hasn't converged yet.\n",
      "  warnings.warn(\n",
      "C:\\Users\\danie\\AppData\\Local\\Packages\\PythonSoftwareFoundation.Python.3.10_qbz5n2kfra8p0\\LocalCache\\local-packages\\Python310\\site-packages\\sklearn\\neural_network\\_multilayer_perceptron.py:702: ConvergenceWarning: Stochastic Optimizer: Maximum iterations (1500) reached and the optimization hasn't converged yet.\n",
      "  warnings.warn(\n",
      "C:\\Users\\danie\\AppData\\Local\\Packages\\PythonSoftwareFoundation.Python.3.10_qbz5n2kfra8p0\\LocalCache\\local-packages\\Python310\\site-packages\\sklearn\\neural_network\\_multilayer_perceptron.py:702: ConvergenceWarning: Stochastic Optimizer: Maximum iterations (500) reached and the optimization hasn't converged yet.\n",
      "  warnings.warn(\n",
      "C:\\Users\\danie\\AppData\\Local\\Packages\\PythonSoftwareFoundation.Python.3.10_qbz5n2kfra8p0\\LocalCache\\local-packages\\Python310\\site-packages\\sklearn\\neural_network\\_multilayer_perceptron.py:702: ConvergenceWarning: Stochastic Optimizer: Maximum iterations (750) reached and the optimization hasn't converged yet.\n",
      "  warnings.warn(\n",
      "C:\\Users\\danie\\AppData\\Local\\Packages\\PythonSoftwareFoundation.Python.3.10_qbz5n2kfra8p0\\LocalCache\\local-packages\\Python310\\site-packages\\sklearn\\neural_network\\_multilayer_perceptron.py:702: ConvergenceWarning: Stochastic Optimizer: Maximum iterations (750) reached and the optimization hasn't converged yet.\n",
      "  warnings.warn(\n",
      "C:\\Users\\danie\\AppData\\Local\\Packages\\PythonSoftwareFoundation.Python.3.10_qbz5n2kfra8p0\\LocalCache\\local-packages\\Python310\\site-packages\\sklearn\\neural_network\\_multilayer_perceptron.py:702: ConvergenceWarning: Stochastic Optimizer: Maximum iterations (750) reached and the optimization hasn't converged yet.\n",
      "  warnings.warn(\n",
      "C:\\Users\\danie\\AppData\\Local\\Packages\\PythonSoftwareFoundation.Python.3.10_qbz5n2kfra8p0\\LocalCache\\local-packages\\Python310\\site-packages\\sklearn\\neural_network\\_multilayer_perceptron.py:702: ConvergenceWarning: Stochastic Optimizer: Maximum iterations (750) reached and the optimization hasn't converged yet.\n",
      "  warnings.warn(\n",
      "C:\\Users\\danie\\AppData\\Local\\Packages\\PythonSoftwareFoundation.Python.3.10_qbz5n2kfra8p0\\LocalCache\\local-packages\\Python310\\site-packages\\sklearn\\neural_network\\_multilayer_perceptron.py:702: ConvergenceWarning: Stochastic Optimizer: Maximum iterations (1500) reached and the optimization hasn't converged yet.\n",
      "  warnings.warn(\n",
      "C:\\Users\\danie\\AppData\\Local\\Packages\\PythonSoftwareFoundation.Python.3.10_qbz5n2kfra8p0\\LocalCache\\local-packages\\Python310\\site-packages\\sklearn\\neural_network\\_multilayer_perceptron.py:702: ConvergenceWarning: Stochastic Optimizer: Maximum iterations (1500) reached and the optimization hasn't converged yet.\n",
      "  warnings.warn(\n",
      "C:\\Users\\danie\\AppData\\Local\\Packages\\PythonSoftwareFoundation.Python.3.10_qbz5n2kfra8p0\\LocalCache\\local-packages\\Python310\\site-packages\\sklearn\\neural_network\\_multilayer_perceptron.py:702: ConvergenceWarning: Stochastic Optimizer: Maximum iterations (1500) reached and the optimization hasn't converged yet.\n",
      "  warnings.warn(\n",
      "C:\\Users\\danie\\AppData\\Local\\Packages\\PythonSoftwareFoundation.Python.3.10_qbz5n2kfra8p0\\LocalCache\\local-packages\\Python310\\site-packages\\sklearn\\neural_network\\_multilayer_perceptron.py:702: ConvergenceWarning: Stochastic Optimizer: Maximum iterations (1500) reached and the optimization hasn't converged yet.\n",
      "  warnings.warn(\n",
      "C:\\Users\\danie\\AppData\\Local\\Packages\\PythonSoftwareFoundation.Python.3.10_qbz5n2kfra8p0\\LocalCache\\local-packages\\Python310\\site-packages\\sklearn\\neural_network\\_multilayer_perceptron.py:702: ConvergenceWarning: Stochastic Optimizer: Maximum iterations (1250) reached and the optimization hasn't converged yet.\n",
      "  warnings.warn(\n",
      "C:\\Users\\danie\\AppData\\Local\\Packages\\PythonSoftwareFoundation.Python.3.10_qbz5n2kfra8p0\\LocalCache\\local-packages\\Python310\\site-packages\\sklearn\\neural_network\\_multilayer_perceptron.py:702: ConvergenceWarning: Stochastic Optimizer: Maximum iterations (1250) reached and the optimization hasn't converged yet.\n",
      "  warnings.warn(\n",
      "C:\\Users\\danie\\AppData\\Local\\Packages\\PythonSoftwareFoundation.Python.3.10_qbz5n2kfra8p0\\LocalCache\\local-packages\\Python310\\site-packages\\sklearn\\neural_network\\_multilayer_perceptron.py:702: ConvergenceWarning: Stochastic Optimizer: Maximum iterations (1250) reached and the optimization hasn't converged yet.\n",
      "  warnings.warn(\n",
      "C:\\Users\\danie\\AppData\\Local\\Packages\\PythonSoftwareFoundation.Python.3.10_qbz5n2kfra8p0\\LocalCache\\local-packages\\Python310\\site-packages\\sklearn\\neural_network\\_multilayer_perceptron.py:702: ConvergenceWarning: Stochastic Optimizer: Maximum iterations (1250) reached and the optimization hasn't converged yet.\n",
      "  warnings.warn(\n",
      "C:\\Users\\danie\\AppData\\Local\\Packages\\PythonSoftwareFoundation.Python.3.10_qbz5n2kfra8p0\\LocalCache\\local-packages\\Python310\\site-packages\\sklearn\\neural_network\\_multilayer_perceptron.py:702: ConvergenceWarning: Stochastic Optimizer: Maximum iterations (1000) reached and the optimization hasn't converged yet.\n",
      "  warnings.warn(\n",
      "C:\\Users\\danie\\AppData\\Local\\Packages\\PythonSoftwareFoundation.Python.3.10_qbz5n2kfra8p0\\LocalCache\\local-packages\\Python310\\site-packages\\sklearn\\neural_network\\_multilayer_perceptron.py:702: ConvergenceWarning: Stochastic Optimizer: Maximum iterations (1000) reached and the optimization hasn't converged yet.\n",
      "  warnings.warn(\n",
      "C:\\Users\\danie\\AppData\\Local\\Packages\\PythonSoftwareFoundation.Python.3.10_qbz5n2kfra8p0\\LocalCache\\local-packages\\Python310\\site-packages\\sklearn\\neural_network\\_multilayer_perceptron.py:702: ConvergenceWarning: Stochastic Optimizer: Maximum iterations (1000) reached and the optimization hasn't converged yet.\n",
      "  warnings.warn(\n",
      "C:\\Users\\danie\\AppData\\Local\\Packages\\PythonSoftwareFoundation.Python.3.10_qbz5n2kfra8p0\\LocalCache\\local-packages\\Python310\\site-packages\\sklearn\\neural_network\\_multilayer_perceptron.py:702: ConvergenceWarning: Stochastic Optimizer: Maximum iterations (1000) reached and the optimization hasn't converged yet.\n",
      "  warnings.warn(\n",
      "C:\\Users\\danie\\AppData\\Local\\Packages\\PythonSoftwareFoundation.Python.3.10_qbz5n2kfra8p0\\LocalCache\\local-packages\\Python310\\site-packages\\sklearn\\neural_network\\_multilayer_perceptron.py:702: ConvergenceWarning: Stochastic Optimizer: Maximum iterations (1000) reached and the optimization hasn't converged yet.\n",
      "  warnings.warn(\n",
      "C:\\Users\\danie\\AppData\\Local\\Packages\\PythonSoftwareFoundation.Python.3.10_qbz5n2kfra8p0\\LocalCache\\local-packages\\Python310\\site-packages\\sklearn\\neural_network\\_multilayer_perceptron.py:702: ConvergenceWarning: Stochastic Optimizer: Maximum iterations (1000) reached and the optimization hasn't converged yet.\n",
      "  warnings.warn(\n",
      "C:\\Users\\danie\\AppData\\Local\\Packages\\PythonSoftwareFoundation.Python.3.10_qbz5n2kfra8p0\\LocalCache\\local-packages\\Python310\\site-packages\\sklearn\\neural_network\\_multilayer_perceptron.py:702: ConvergenceWarning: Stochastic Optimizer: Maximum iterations (1000) reached and the optimization hasn't converged yet.\n",
      "  warnings.warn(\n",
      "C:\\Users\\danie\\AppData\\Local\\Packages\\PythonSoftwareFoundation.Python.3.10_qbz5n2kfra8p0\\LocalCache\\local-packages\\Python310\\site-packages\\sklearn\\neural_network\\_multilayer_perceptron.py:702: ConvergenceWarning: Stochastic Optimizer: Maximum iterations (1000) reached and the optimization hasn't converged yet.\n",
      "  warnings.warn(\n",
      "C:\\Users\\danie\\AppData\\Local\\Packages\\PythonSoftwareFoundation.Python.3.10_qbz5n2kfra8p0\\LocalCache\\local-packages\\Python310\\site-packages\\sklearn\\neural_network\\_multilayer_perceptron.py:702: ConvergenceWarning: Stochastic Optimizer: Maximum iterations (750) reached and the optimization hasn't converged yet.\n",
      "  warnings.warn(\n",
      "C:\\Users\\danie\\AppData\\Local\\Packages\\PythonSoftwareFoundation.Python.3.10_qbz5n2kfra8p0\\LocalCache\\local-packages\\Python310\\site-packages\\sklearn\\neural_network\\_multilayer_perceptron.py:702: ConvergenceWarning: Stochastic Optimizer: Maximum iterations (750) reached and the optimization hasn't converged yet.\n",
      "  warnings.warn(\n",
      "C:\\Users\\danie\\AppData\\Local\\Packages\\PythonSoftwareFoundation.Python.3.10_qbz5n2kfra8p0\\LocalCache\\local-packages\\Python310\\site-packages\\sklearn\\neural_network\\_multilayer_perceptron.py:702: ConvergenceWarning: Stochastic Optimizer: Maximum iterations (750) reached and the optimization hasn't converged yet.\n",
      "  warnings.warn(\n",
      "C:\\Users\\danie\\AppData\\Local\\Packages\\PythonSoftwareFoundation.Python.3.10_qbz5n2kfra8p0\\LocalCache\\local-packages\\Python310\\site-packages\\sklearn\\neural_network\\_multilayer_perceptron.py:702: ConvergenceWarning: Stochastic Optimizer: Maximum iterations (750) reached and the optimization hasn't converged yet.\n",
      "  warnings.warn(\n",
      "C:\\Users\\danie\\AppData\\Local\\Packages\\PythonSoftwareFoundation.Python.3.10_qbz5n2kfra8p0\\LocalCache\\local-packages\\Python310\\site-packages\\sklearn\\neural_network\\_multilayer_perceptron.py:702: ConvergenceWarning: Stochastic Optimizer: Maximum iterations (750) reached and the optimization hasn't converged yet.\n",
      "  warnings.warn(\n",
      "C:\\Users\\danie\\AppData\\Local\\Packages\\PythonSoftwareFoundation.Python.3.10_qbz5n2kfra8p0\\LocalCache\\local-packages\\Python310\\site-packages\\sklearn\\neural_network\\_multilayer_perceptron.py:702: ConvergenceWarning: Stochastic Optimizer: Maximum iterations (1000) reached and the optimization hasn't converged yet.\n",
      "  warnings.warn(\n",
      "C:\\Users\\danie\\AppData\\Local\\Packages\\PythonSoftwareFoundation.Python.3.10_qbz5n2kfra8p0\\LocalCache\\local-packages\\Python310\\site-packages\\sklearn\\neural_network\\_multilayer_perceptron.py:702: ConvergenceWarning: Stochastic Optimizer: Maximum iterations (500) reached and the optimization hasn't converged yet.\n",
      "  warnings.warn(\n",
      "C:\\Users\\danie\\AppData\\Local\\Packages\\PythonSoftwareFoundation.Python.3.10_qbz5n2kfra8p0\\LocalCache\\local-packages\\Python310\\site-packages\\sklearn\\neural_network\\_multilayer_perceptron.py:702: ConvergenceWarning: Stochastic Optimizer: Maximum iterations (500) reached and the optimization hasn't converged yet.\n",
      "  warnings.warn(\n",
      "C:\\Users\\danie\\AppData\\Local\\Packages\\PythonSoftwareFoundation.Python.3.10_qbz5n2kfra8p0\\LocalCache\\local-packages\\Python310\\site-packages\\sklearn\\neural_network\\_multilayer_perceptron.py:702: ConvergenceWarning: Stochastic Optimizer: Maximum iterations (500) reached and the optimization hasn't converged yet.\n",
      "  warnings.warn(\n",
      "C:\\Users\\danie\\AppData\\Local\\Packages\\PythonSoftwareFoundation.Python.3.10_qbz5n2kfra8p0\\LocalCache\\local-packages\\Python310\\site-packages\\sklearn\\neural_network\\_multilayer_perceptron.py:702: ConvergenceWarning: Stochastic Optimizer: Maximum iterations (500) reached and the optimization hasn't converged yet.\n",
      "  warnings.warn(\n",
      "C:\\Users\\danie\\AppData\\Local\\Packages\\PythonSoftwareFoundation.Python.3.10_qbz5n2kfra8p0\\LocalCache\\local-packages\\Python310\\site-packages\\sklearn\\neural_network\\_multilayer_perceptron.py:702: ConvergenceWarning: Stochastic Optimizer: Maximum iterations (500) reached and the optimization hasn't converged yet.\n",
      "  warnings.warn(\n",
      "C:\\Users\\danie\\AppData\\Local\\Packages\\PythonSoftwareFoundation.Python.3.10_qbz5n2kfra8p0\\LocalCache\\local-packages\\Python310\\site-packages\\sklearn\\neural_network\\_multilayer_perceptron.py:702: ConvergenceWarning: Stochastic Optimizer: Maximum iterations (500) reached and the optimization hasn't converged yet.\n",
      "  warnings.warn(\n",
      "C:\\Users\\danie\\AppData\\Local\\Packages\\PythonSoftwareFoundation.Python.3.10_qbz5n2kfra8p0\\LocalCache\\local-packages\\Python310\\site-packages\\sklearn\\neural_network\\_multilayer_perceptron.py:702: ConvergenceWarning: Stochastic Optimizer: Maximum iterations (1000) reached and the optimization hasn't converged yet.\n",
      "  warnings.warn(\n",
      "C:\\Users\\danie\\AppData\\Local\\Packages\\PythonSoftwareFoundation.Python.3.10_qbz5n2kfra8p0\\LocalCache\\local-packages\\Python310\\site-packages\\sklearn\\model_selection\\_search.py:306: UserWarning: The total space of parameters 6 is smaller than n_iter=30. Running 6 iterations. For exhaustive searches, use GridSearchCV.\n",
      "  warnings.warn(\n"
     ]
    },
    {
     "data": {
      "text/html": [
       "<div>\n",
       "<style scoped>\n",
       "    .dataframe tbody tr th:only-of-type {\n",
       "        vertical-align: middle;\n",
       "    }\n",
       "\n",
       "    .dataframe tbody tr th {\n",
       "        vertical-align: top;\n",
       "    }\n",
       "\n",
       "    .dataframe thead th {\n",
       "        text-align: right;\n",
       "    }\n",
       "</style>\n",
       "<table border=\"1\" class=\"dataframe\">\n",
       "  <thead>\n",
       "    <tr style=\"text-align: right;\">\n",
       "      <th></th>\n",
       "      <th>model</th>\n",
       "      <th>best_score</th>\n",
       "      <th>best_params</th>\n",
       "    </tr>\n",
       "  </thead>\n",
       "  <tbody>\n",
       "    <tr>\n",
       "      <th>0</th>\n",
       "      <td>MLP</td>\n",
       "      <td>0.502884</td>\n",
       "      <td>{'verbose': False, 'max_iter': 1500, 'learning...</td>\n",
       "    </tr>\n",
       "    <tr>\n",
       "      <th>1</th>\n",
       "      <td>RandForrest</td>\n",
       "      <td>0.506147</td>\n",
       "      <td>{'n_estimators': 200, 'min_samples_split': 2, ...</td>\n",
       "    </tr>\n",
       "    <tr>\n",
       "      <th>2</th>\n",
       "      <td>svm</td>\n",
       "      <td>0.500936</td>\n",
       "      <td>{'kernel': 'rbf', 'C': 20}</td>\n",
       "    </tr>\n",
       "  </tbody>\n",
       "</table>\n",
       "</div>"
      ],
      "text/plain": [
       "         model  best_score                                        best_params\n",
       "0          MLP    0.502884  {'verbose': False, 'max_iter': 1500, 'learning...\n",
       "1  RandForrest    0.506147  {'n_estimators': 200, 'min_samples_split': 2, ...\n",
       "2          svm    0.500936                         {'kernel': 'rbf', 'C': 20}"
      ]
     },
     "execution_count": 67,
     "metadata": {},
     "output_type": "execute_result"
    }
   ],
   "source": [
    " \n",
    "scores = []\n",
    "\n",
    "for model_name, mp in model_params.items():\n",
    "    clf =  RandomizedSearchCV(mp['model'], mp['params'], n_iter=30, cv=5, return_train_score=False)\n",
    "    clf.fit(X_train_GS, y_train_GS)\n",
    "    scores.append({\n",
    "        'model': model_name,\n",
    "        'best_score': clf.best_score_,\n",
    "        'best_params': clf.best_params_\n",
    "    })\n",
    "    \n",
    "model_df = pd.DataFrame(scores,columns=['model','best_score','best_params'])\n",
    "model_df "
   ]
  },
  {
   "cell_type": "code",
   "execution_count": 68,
   "id": "2bf9d891",
   "metadata": {},
   "outputs": [],
   "source": [
    "model_df.to_csv('../../notebooks/model_param_optimization.csv', index = False)"
   ]
  },
  {
   "cell_type": "code",
   "execution_count": 63,
   "id": "23c8beee",
   "metadata": {},
   "outputs": [],
   "source": [
    "# Calculating accuracy, F1-score views\n",
    "def metrics(y_pred, y_true, model_name=None):\n",
    "  report = classification_report(y_true, y_pred, output_dict=True)\n",
    "  df = pd.DataFrame(report).transpose()\n",
    "  df2 = df.reset_index().melt('index')\n",
    "  df2['index0'] = df2['variable'].astype('str') +'_'+ df2['index'].astype('str')\n",
    "  df2 = df2.pivot_table(values='value', columns='index0', aggfunc='first').reset_index(drop=True)\n",
    "  df2.insert(loc=0, column='model', value=model_name)\n",
    "  return df2\n"
   ]
  },
  {
   "cell_type": "markdown",
   "id": "02dce156",
   "metadata": {},
   "source": [
    "Copying the best parameters from Randon Search into the models below"
   ]
  },
  {
   "cell_type": "code",
   "execution_count": 64,
   "id": "7684ba06",
   "metadata": {},
   "outputs": [],
   "source": [
    "\n",
    "def step_func(x):\n",
    "    if x > 0.5:\n",
    "        return 1\n",
    "    else:\n",
    "        return 0\n",
    "\n",
    "def DecisionT(X_train, y_train,X_test,y_test, model_name='Decision Tree'):\n",
    "\n",
    "  deCls=DecisionTreeClassifier(max_depth=15,max_features=5,min_samples_leaf=2,min_samples_split=5, random_state=1)\n",
    "  deCls.fit(X_train, y_train)\n",
    "  predictions = deCls.predict(X_test)\n",
    "  df = metrics(predictions,y_test, model_name)\n",
    "  return deCls, df\n",
    "\n",
    "def LogRegre(X_train, y_train,X_test,y_test, model_name='Log Regression'):\n",
    "\n",
    "  logReg = LogisticRegression(solver=\"saga\", tol=1e-3, random_state=1)\n",
    "  logReg.fit(X_train, y_train)\n",
    "  predictions = logReg.predict(X_test)\n",
    "  df = metrics(predictions,y_test, model_name)\n",
    "  return logReg, df\n",
    "  \n",
    "\n",
    "def RandFor(X_train, y_train,X_test,y_test, model_name='Random Forest'):\n",
    "\n",
    "  randF = RandomForestClassifier(bootstrap=True, max_depth=80, min_samples_leaf=2,\n",
    "                                 min_samples_split=8, n_estimators=200, random_state=1)\n",
    "  randF.fit(X_train, y_train)\n",
    "  predictions = randF.predict(X_test)\n",
    "  df = metrics(predictions,y_test, model_name)\n",
    "  return randF, df\n",
    "\n",
    "def kNeighbors(X_train, y_train,X_test,y_test, model_name='KNN'):\n",
    "\n",
    "  kN = KNeighborsClassifier(\n",
    "      n_neighbors=161, p=2, weights=\"distance\", metric=\"manhattan\", random_state=1)\n",
    "  kN.fit(X_train, y_train)\n",
    "  predictions = kN.predict(X_test)\n",
    "  df = metrics(predictions,y_test, model_name)\n",
    "  return kN, df\n",
    "\n",
    "def support_vector(X_train, y_train,X_test,y_test, model_name='SVC'):\n",
    "\n",
    "  sv = SVC(kernel='linear', C=10)\n",
    "  sv.fit(X_train, y_train)\n",
    "  predictions = sv.predict(X_test)\n",
    "  df = metrics(predictions,y_test, model_name)\n",
    "  return sv, df\n",
    "\n",
    "def mlp(X_train, y_train,X_test,y_test, model_name='MLP'):\n",
    "\n",
    "  ml = MLPClassifier(alpha=0.001, hidden_layer_sizes=(\n",
    "      1500, 3), learning_rate_init=3.727593720314938e-05, max_iter=1000, verbose=False, random_state=1)\n",
    "  ml.fit(X_train, y_train)\n",
    "  predictions = ml.predict(X_test)\n",
    "  df = metrics(predictions,y_test, model_name)\n",
    "  return ml, df\n",
    "\n",
    "def ebm(X_train, y_train,X_test,y_test,feat_names=None,feat_dtypes=None, model_name='Explainable Boosting'):\n",
    "\n",
    "  eb = ExplainableBoostingClassifier(feature_names= feat_names, feature_types=feat_dtypes, random_state=1)\n",
    "  eb.fit(X_train, y_train)\n",
    "  predictions = eb.predict(X_test)\n",
    "  df = metrics(predictions,y_test, model_name)\n",
    "  return eb, df\n",
    "\n",
    "def stats_logit(X_train, y_train,X_test,y_test, model_name='Stats Logistics'):\n",
    "\n",
    "  log = sm.Logit(y_train, X_train, random_state=1).fit()\n",
    "  predictions = log.predict(X_test)\n",
    "  predictions = np.vectorize(step_func)(predictions)\n",
    "  df = metrics(predictions,y_test, model_name)\n",
    "  return log, df\n",
    "\n"
   ]
  },
  {
   "cell_type": "markdown",
   "id": "5f6b6489",
   "metadata": {},
   "source": [
    "We'll take as a next step, a Decision tree, a Logistic Regression, the previously optimized Random Forest and MLP and add the Explainable Boosting Machine"
   ]
  },
  {
   "cell_type": "code",
   "execution_count": 65,
   "id": "691ec21f",
   "metadata": {},
   "outputs": [
    {
     "name": "stdout",
     "output_type": "stream",
     "text": [
      "Classification Report Decision Tree\n",
      "_+_+_+_+_+_+_+_+_+_+_+_+_+_+_+_+_+_+\n",
      "Classification Report Logistics Reg\n"
     ]
    },
    {
     "name": "stderr",
     "output_type": "stream",
     "text": [
      "C:\\Users\\danie\\AppData\\Local\\Packages\\PythonSoftwareFoundation.Python.3.10_qbz5n2kfra8p0\\LocalCache\\local-packages\\Python310\\site-packages\\statsmodels\\base\\model.py:127: ValueWarning: unknown kwargs ['random_state']\n",
      "  warnings.warn(msg, ValueWarning)\n"
     ]
    },
    {
     "name": "stdout",
     "output_type": "stream",
     "text": [
      "Optimization terminated successfully.\n",
      "         Current function value: 0.264275\n",
      "         Iterations 13\n",
      "_+_+_+_+_+_+_+_+_+_+_+_+_+_+_+_+_+_+\n",
      "Classification Report Random Forest\n",
      "_+_+_+_+_+_+_+_+_+_+_+_+_+_+_+_+_+_+\n",
      "Classification Report EBM\n",
      "_+_+_+_+_+_+_+_+_+_+_+_+_+_+_+_+_+_+\n",
      "Classification Report MLP\n",
      "_+_+_+_+_+_+_+_+_+_+_+_+_+_+_+_+_+_+\n"
     ]
    }
   ],
   "source": [
    "print(\"Classification Report Decision Tree\", flush=True)\n",
    "model_DT, DT_results = DecisionT(X_train_std, y_train_bal,X_test_std,y_test_bal, model_name='Decision Tree')\n",
    "print(\"_+_+_+_+_+_+_+_+_+_+_+_+_+_+_+_+_+_+\", flush=True)\n",
    "\n",
    "print(\"Classification Report Logistics Reg\", flush=True)\n",
    "model_LR, LR_results = stats_logit(X_train_std, y_train_bal,X_test_std,y_test_bal, model_name='Logistic Regression')\n",
    "print(\"_+_+_+_+_+_+_+_+_+_+_+_+_+_+_+_+_+_+\", flush=True)\n",
    " \n",
    "print(\"Classification Report Random Forest\", flush=True)\n",
    "model_RF, RF_results = RandFor(X_train_std, y_train_bal,X_test_std,y_test_bal, model_name='Random Forest')\n",
    "print(\"_+_+_+_+_+_+_+_+_+_+_+_+_+_+_+_+_+_+\", flush=True)\n",
    "\n",
    "\n",
    "print(\"Classification Report EBM\", flush=True)\n",
    "model_EB, EB_results = ebm(X_train_std, y_train_bal,X_test_std,y_test_bal,X.columns, model_name='EBM')\n",
    "print(\"_+_+_+_+_+_+_+_+_+_+_+_+_+_+_+_+_+_+\", flush=True)\n",
    "\n",
    "\n",
    "print(\"Classification Report MLP\", flush=True)\n",
    "model_ML, ML_results = mlp(X_train_std, y_train_bal,X_test_std,y_test_bal, model_name='MLP')\n",
    "print(\"_+_+_+_+_+_+_+_+_+_+_+_+_+_+_+_+_+_+\", flush=True)\n",
    "\n"
   ]
  },
  {
   "cell_type": "markdown",
   "id": "409aae82",
   "metadata": {},
   "source": [
    "### exporting the models to file"
   ]
  },
  {
   "cell_type": "code",
   "execution_count": 70,
   "id": "5dfe02d6",
   "metadata": {},
   "outputs": [],
   "source": [
    "import pickle\n",
    "\n",
    "models = ['model_DT', 'model_LR', 'model_RF', 'model_EB', 'model_ML'\n",
    "         ]\n",
    "ID= '_1121'\n",
    "for i in models:\n",
    "    exec('model=' + i)\n",
    "    filename = '../../notebooks/' + i + ID + '.sav'\n",
    "    pickle.dump(model, open(filename, 'wb'))\n"
   ]
  },
  {
   "cell_type": "markdown",
   "id": "a9a05295",
   "metadata": {},
   "source": [
    "### Plotting and saving results"
   ]
  },
  {
   "cell_type": "code",
   "execution_count": 71,
   "id": "55ca3611",
   "metadata": {},
   "outputs": [
    {
     "name": "stderr",
     "output_type": "stream",
     "text": [
      "C:\\Users\\danie\\AppData\\Local\\Temp\\ipykernel_3988\\1399997037.py:5: FutureWarning: The frame.append method is deprecated and will be removed from pandas in a future version. Use pandas.concat instead.\n",
      "  results_df = results_df.append(i, ignore_index=True)\n"
     ]
    },
    {
     "data": {
      "text/html": [
       "<div>\n",
       "<style scoped>\n",
       "    .dataframe tbody tr th:only-of-type {\n",
       "        vertical-align: middle;\n",
       "    }\n",
       "\n",
       "    .dataframe tbody tr th {\n",
       "        vertical-align: top;\n",
       "    }\n",
       "\n",
       "    .dataframe thead th {\n",
       "        text-align: right;\n",
       "    }\n",
       "</style>\n",
       "<table border=\"1\" class=\"dataframe\">\n",
       "  <thead>\n",
       "    <tr style=\"text-align: right;\">\n",
       "      <th>index0</th>\n",
       "      <th>model</th>\n",
       "      <th>f1-score_0</th>\n",
       "      <th>f1-score_1</th>\n",
       "      <th>f1-score_accuracy</th>\n",
       "      <th>f1-score_macro avg</th>\n",
       "      <th>f1-score_weighted avg</th>\n",
       "      <th>precision_0</th>\n",
       "      <th>precision_1</th>\n",
       "      <th>precision_accuracy</th>\n",
       "      <th>precision_macro avg</th>\n",
       "      <th>...</th>\n",
       "      <th>recall_0</th>\n",
       "      <th>recall_1</th>\n",
       "      <th>recall_accuracy</th>\n",
       "      <th>recall_macro avg</th>\n",
       "      <th>recall_weighted avg</th>\n",
       "      <th>support_0</th>\n",
       "      <th>support_1</th>\n",
       "      <th>support_accuracy</th>\n",
       "      <th>support_macro avg</th>\n",
       "      <th>support_weighted avg</th>\n",
       "    </tr>\n",
       "  </thead>\n",
       "  <tbody>\n",
       "    <tr>\n",
       "      <th>3</th>\n",
       "      <td>EBM</td>\n",
       "      <td>0.898276</td>\n",
       "      <td>0.879065</td>\n",
       "      <td>0.889499</td>\n",
       "      <td>0.888671</td>\n",
       "      <td>0.888671</td>\n",
       "      <td>0.832180</td>\n",
       "      <td>0.970726</td>\n",
       "      <td>0.889499</td>\n",
       "      <td>0.901453</td>\n",
       "      <td>...</td>\n",
       "      <td>0.975777</td>\n",
       "      <td>0.803222</td>\n",
       "      <td>0.889499</td>\n",
       "      <td>0.889499</td>\n",
       "      <td>0.889499</td>\n",
       "      <td>49416.0</td>\n",
       "      <td>49416.0</td>\n",
       "      <td>0.889499</td>\n",
       "      <td>98832.0</td>\n",
       "      <td>98832.0</td>\n",
       "    </tr>\n",
       "    <tr>\n",
       "      <th>2</th>\n",
       "      <td>Random Forest</td>\n",
       "      <td>0.898332</td>\n",
       "      <td>0.878035</td>\n",
       "      <td>0.889105</td>\n",
       "      <td>0.888184</td>\n",
       "      <td>0.888184</td>\n",
       "      <td>0.829326</td>\n",
       "      <td>0.975399</td>\n",
       "      <td>0.889105</td>\n",
       "      <td>0.902362</td>\n",
       "      <td>...</td>\n",
       "      <td>0.979865</td>\n",
       "      <td>0.798345</td>\n",
       "      <td>0.889105</td>\n",
       "      <td>0.889105</td>\n",
       "      <td>0.889105</td>\n",
       "      <td>49416.0</td>\n",
       "      <td>49416.0</td>\n",
       "      <td>0.889105</td>\n",
       "      <td>98832.0</td>\n",
       "      <td>98832.0</td>\n",
       "    </tr>\n",
       "    <tr>\n",
       "      <th>1</th>\n",
       "      <td>Logistic Regression</td>\n",
       "      <td>0.893522</td>\n",
       "      <td>0.869028</td>\n",
       "      <td>0.882538</td>\n",
       "      <td>0.881275</td>\n",
       "      <td>0.881275</td>\n",
       "      <td>0.817114</td>\n",
       "      <td>0.981974</td>\n",
       "      <td>0.882538</td>\n",
       "      <td>0.899544</td>\n",
       "      <td>...</td>\n",
       "      <td>0.985693</td>\n",
       "      <td>0.779383</td>\n",
       "      <td>0.882538</td>\n",
       "      <td>0.882538</td>\n",
       "      <td>0.882538</td>\n",
       "      <td>49416.0</td>\n",
       "      <td>49416.0</td>\n",
       "      <td>0.882538</td>\n",
       "      <td>98832.0</td>\n",
       "      <td>98832.0</td>\n",
       "    </tr>\n",
       "    <tr>\n",
       "      <th>4</th>\n",
       "      <td>MLP</td>\n",
       "      <td>0.880625</td>\n",
       "      <td>0.871180</td>\n",
       "      <td>0.876083</td>\n",
       "      <td>0.875903</td>\n",
       "      <td>0.875903</td>\n",
       "      <td>0.849484</td>\n",
       "      <td>0.907064</td>\n",
       "      <td>0.876083</td>\n",
       "      <td>0.878274</td>\n",
       "      <td>...</td>\n",
       "      <td>0.914137</td>\n",
       "      <td>0.838028</td>\n",
       "      <td>0.876083</td>\n",
       "      <td>0.876083</td>\n",
       "      <td>0.876083</td>\n",
       "      <td>49416.0</td>\n",
       "      <td>49416.0</td>\n",
       "      <td>0.876083</td>\n",
       "      <td>98832.0</td>\n",
       "      <td>98832.0</td>\n",
       "    </tr>\n",
       "    <tr>\n",
       "      <th>0</th>\n",
       "      <td>Decision Tree</td>\n",
       "      <td>0.820234</td>\n",
       "      <td>0.754920</td>\n",
       "      <td>0.792598</td>\n",
       "      <td>0.787577</td>\n",
       "      <td>0.787577</td>\n",
       "      <td>0.723789</td>\n",
       "      <td>0.922506</td>\n",
       "      <td>0.792598</td>\n",
       "      <td>0.823147</td>\n",
       "      <td>...</td>\n",
       "      <td>0.946333</td>\n",
       "      <td>0.638862</td>\n",
       "      <td>0.792598</td>\n",
       "      <td>0.792598</td>\n",
       "      <td>0.792598</td>\n",
       "      <td>49416.0</td>\n",
       "      <td>49416.0</td>\n",
       "      <td>0.792598</td>\n",
       "      <td>98832.0</td>\n",
       "      <td>98832.0</td>\n",
       "    </tr>\n",
       "  </tbody>\n",
       "</table>\n",
       "<p>5 rows × 21 columns</p>\n",
       "</div>"
      ],
      "text/plain": [
       "index0                model  f1-score_0  f1-score_1  f1-score_accuracy  \\\n",
       "3                       EBM    0.898276    0.879065           0.889499   \n",
       "2             Random Forest    0.898332    0.878035           0.889105   \n",
       "1       Logistic Regression    0.893522    0.869028           0.882538   \n",
       "4                       MLP    0.880625    0.871180           0.876083   \n",
       "0             Decision Tree    0.820234    0.754920           0.792598   \n",
       "\n",
       "index0  f1-score_macro avg  f1-score_weighted avg  precision_0  precision_1  \\\n",
       "3                 0.888671               0.888671     0.832180     0.970726   \n",
       "2                 0.888184               0.888184     0.829326     0.975399   \n",
       "1                 0.881275               0.881275     0.817114     0.981974   \n",
       "4                 0.875903               0.875903     0.849484     0.907064   \n",
       "0                 0.787577               0.787577     0.723789     0.922506   \n",
       "\n",
       "index0  precision_accuracy  precision_macro avg  ...  recall_0  recall_1  \\\n",
       "3                 0.889499             0.901453  ...  0.975777  0.803222   \n",
       "2                 0.889105             0.902362  ...  0.979865  0.798345   \n",
       "1                 0.882538             0.899544  ...  0.985693  0.779383   \n",
       "4                 0.876083             0.878274  ...  0.914137  0.838028   \n",
       "0                 0.792598             0.823147  ...  0.946333  0.638862   \n",
       "\n",
       "index0  recall_accuracy  recall_macro avg  recall_weighted avg  support_0  \\\n",
       "3              0.889499          0.889499             0.889499    49416.0   \n",
       "2              0.889105          0.889105             0.889105    49416.0   \n",
       "1              0.882538          0.882538             0.882538    49416.0   \n",
       "4              0.876083          0.876083             0.876083    49416.0   \n",
       "0              0.792598          0.792598             0.792598    49416.0   \n",
       "\n",
       "index0  support_1  support_accuracy  support_macro avg  support_weighted avg  \n",
       "3         49416.0          0.889499            98832.0               98832.0  \n",
       "2         49416.0          0.889105            98832.0               98832.0  \n",
       "1         49416.0          0.882538            98832.0               98832.0  \n",
       "4         49416.0          0.876083            98832.0               98832.0  \n",
       "0         49416.0          0.792598            98832.0               98832.0  \n",
       "\n",
       "[5 rows x 21 columns]"
      ]
     },
     "execution_count": 71,
     "metadata": {},
     "output_type": "execute_result"
    }
   ],
   "source": [
    "results=[DT_results, LR_results, RF_results, EB_results, ML_results\n",
    "         ]\n",
    "results_df = pd.DataFrame(columns=DT_results.columns)\n",
    "for i in results:\n",
    "    results_df = results_df.append(i, ignore_index=True)\n",
    "results_df.to_csv('../../notebooks/model_results.csv', index = False)\n",
    "results_df.sort_values(by='f1-score_accuracy', ascending=False)\n"
   ]
  },
  {
   "cell_type": "code",
   "execution_count": 66,
   "id": "36c5179e",
   "metadata": {},
   "outputs": [
    {
     "data": {
      "text/plain": [
       "(98832, 41)"
      ]
     },
     "execution_count": 66,
     "metadata": {},
     "output_type": "execute_result"
    }
   ],
   "source": [
    "X_test_std.shape\n"
   ]
  },
  {
   "cell_type": "code",
   "execution_count": 68,
   "id": "ca209d54",
   "metadata": {},
   "outputs": [
    {
     "data": {
      "text/plain": [
       "(98832,)"
      ]
     },
     "execution_count": 68,
     "metadata": {},
     "output_type": "execute_result"
    }
   ],
   "source": [
    "y_test_bal.shape\n"
   ]
  },
  {
   "cell_type": "code",
   "execution_count": 71,
   "id": "12b057a2",
   "metadata": {},
   "outputs": [],
   "source": [
    "test_df = pd.concat([X_test_std, y_test_bal], axis=1)\n"
   ]
  },
  {
   "cell_type": "markdown",
   "id": "4f0ff55b",
   "metadata": {},
   "source": [
    "Exporting file for Model Analysis"
   ]
  },
  {
   "cell_type": "code",
   "execution_count": 73,
   "id": "b19060eb",
   "metadata": {},
   "outputs": [],
   "source": [
    "test_df.to_csv(\n",
    "    '../../data/hmda_lar/cleaned_data/2_analysis_hmda_stage2.csv', index=False)\n"
   ]
  }
 ],
 "metadata": {
  "kernelspec": {
   "display_name": "Python 3.10.8 64-bit (microsoft store)",
   "language": "python",
   "name": "python3"
  },
  "language_info": {
   "codemirror_mode": {
    "name": "ipython",
    "version": 3
   },
   "file_extension": ".py",
   "mimetype": "text/x-python",
   "name": "python",
   "nbconvert_exporter": "python",
   "pygments_lexer": "ipython3",
   "version": "3.10.8"
  },
  "vscode": {
   "interpreter": {
    "hash": "602bbe8e8fe3127dc2d2bb8f57c49cfbb507be2cc0e090f10eb4c4d0af354b8b"
   }
  }
 },
 "nbformat": 4,
 "nbformat_minor": 5
}
